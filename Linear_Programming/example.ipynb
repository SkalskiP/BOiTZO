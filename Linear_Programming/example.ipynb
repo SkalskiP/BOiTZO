{
 "cells": [
  {
   "cell_type": "markdown",
   "metadata": {},
   "source": [
    "# Monte Carlo Linear Programming with Python"
   ]
  },
  {
   "cell_type": "markdown",
   "metadata": {},
   "source": [
    "***Piotr Skalski - 01.05.2018***"
   ]
  },
  {
   "cell_type": "markdown",
   "metadata": {},
   "source": [
    "### 1. Imports"
   ]
  },
  {
   "cell_type": "code",
   "execution_count": 2,
   "metadata": {},
   "outputs": [
    {
     "data": {
      "text/html": [
       "<script>requirejs.config({paths: { 'plotly': ['https://cdn.plot.ly/plotly-latest.min']},});if(!window.Plotly) {{require(['plotly'],function(plotly) {window.Plotly=plotly;});}}</script>"
      ],
      "text/vnd.plotly.v1+html": [
       "<script>requirejs.config({paths: { 'plotly': ['https://cdn.plot.ly/plotly-latest.min']},});if(!window.Plotly) {{require(['plotly'],function(plotly) {window.Plotly=plotly;});}}</script>"
      ]
     },
     "metadata": {},
     "output_type": "display_data"
    }
   ],
   "source": [
    "import random\n",
    "import datetime\n",
    "import numpy as np\n",
    "\n",
    "import matplotlib.pyplot as plt\n",
    "import matplotlib.colors as colors\n",
    "%matplotlib inline\n",
    "\n",
    "import plotly.offline as py\n",
    "py.init_notebook_mode(connected=True)\n",
    "import plotly.graph_objs as go\n",
    "import plotly.tools as tls"
   ]
  },
  {
   "cell_type": "markdown",
   "metadata": {},
   "source": [
    "### 2. Model settings"
   ]
  },
  {
   "cell_type": "code",
   "execution_count": 49,
   "metadata": {
    "collapsed": true
   },
   "outputs": [],
   "source": [
    "# The range of values from which random coordinates will be generated\n",
    "MAX_POINT_COORDINATE_VALUE = 20\n",
    "# The number of random points generated as part of a single iteration\n",
    "NUMBER_OF_RANDOM_POINTS_PER_SWEEP = 100000\n",
    "# The maximum allowable difference in results obtained in subsequent iterations\n",
    "EPS = 1"
   ]
  },
  {
   "cell_type": "markdown",
   "metadata": {},
   "source": [
    "### 3. LinearProgrammingModel class definition"
   ]
  },
  {
   "cell_type": "code",
   "execution_count": 50,
   "metadata": {
    "collapsed": true
   },
   "outputs": [],
   "source": [
    "class LinearProgrammingModel():\n",
    "    \n",
    "    def __init__(self, points_per_sweep=100000, max_cord_value=100000, max_eps=10, verbose=True, no_improvement_max_sweep = 3):\n",
    "        self.points_per_sweep = points_per_sweep\n",
    "        self.max_cord_value = max_cord_value\n",
    "        self.max_eps = max_eps\n",
    "        self.verbose = verbose\n",
    "        self.scores_after_iterations = []\n",
    "        self.point_after_iterations = []\n",
    "        self.no_improvement_max_sweep = no_improvement_max_sweep\n",
    "        self.no_improvement_count = 0\n",
    "        \n",
    "        self.dimensions = None\n",
    "        self.equation = None\n",
    "        self.optimization = None\n",
    "        self.conditions = None\n",
    "        \n",
    "        self.supported_operations = {\n",
    "            \"log\" : \"np.log\",\n",
    "            \"sin\" : \"np.sin\",\n",
    "            \"cos\" : \"np.cos\",\n",
    "            \"tan\" : \"np.tan\",\n",
    "            \"sqrt\" : \"np.sqrt\",\n",
    "            \"absolute\" : \"np.absolute\"\n",
    "        }\n",
    "        \n",
    "    def fit(self, dimensions, equation, optimization, conditions):\n",
    "        self.dimensions = dimensions\n",
    "        self.equation = equation\n",
    "        self.optimization = optimization\n",
    "        self.conditions = conditions\n",
    "        self.point_after_iterations = [[] for i in range(self.dimensions)]\n",
    "        \n",
    "        self.model_preprocessing()\n",
    "        \n",
    "        r = self.max_cord_value/2\n",
    "        center = LinearProgrammingModel.generate_start_point(self.dimensions, int(r))\n",
    "        prev_score = 100000000\n",
    "\n",
    "        while True:\n",
    "            point, score = self.single_sweep(center, r)\n",
    "            \n",
    "#             self.scores_after_iterations.append(score)\n",
    "#             for i in range(self.dimensions):\n",
    "#                 self.point_after_iterations[i].append(point[\"x\" + str(i+1)])\n",
    "            \n",
    "            if self.verbose:\n",
    "                print(\"Score: \" + str(score))\n",
    "                print(\"R: \" + str(r))\n",
    "                print(\"Point: \" + str(point))\n",
    "                print(\"-\" * 80)\n",
    "   \n",
    "            if abs(prev_score - score) <= self.max_eps:\n",
    "                self.no_improvement_count += 1\n",
    "                if self.no_improvement_max_sweep == self.no_improvement_count:\n",
    "                    return point, score\n",
    "                else:\n",
    "                    prev_score = score\n",
    "                    center = point\n",
    "            else:\n",
    "                self.no_improvement_count = 0\n",
    "                prev_score = score\n",
    "                center = point\n",
    "                r = int(r/2)\n",
    "        \n",
    "    def single_sweep(self, center, r):\n",
    "        best_point = None\n",
    "        best_score = None\n",
    "\n",
    "        if self.validate_single_point(center):\n",
    "            best_point = center\n",
    "            equation = LinearProgrammingModel.replace_all(self.equation, center)\n",
    "            best_score = eval(equation)\n",
    "\n",
    "        for i in range(self.points_per_sweep):\n",
    "            random_point = LinearProgrammingModel.generate_point_in_vicinity(center, r)\n",
    "\n",
    "            if self.validate_single_point(random_point):\n",
    "                equation = LinearProgrammingModel.replace_all(self.equation, random_point)\n",
    "                value = eval(equation)\n",
    "                if self.optimization is \"max\" and (best_score == None or best_score < value):\n",
    "                    best_point = random_point\n",
    "                    best_score = value\n",
    "                elif self.optimization is \"min\" and (best_score == None or best_score > value):\n",
    "                    best_point = random_point\n",
    "                    best_score = value\n",
    "\n",
    "        return best_point, best_score\n",
    "        \n",
    "    def model_preprocessing(self):\n",
    "        self.conditions = [LinearProgrammingModel.replace_all(condition, self.supported_operations) for condition in self.conditions]\n",
    "        self.equation = LinearProgrammingModel.replace_all(self.equation, self.supported_operations)\n",
    "\n",
    "    def validate_single_point(self, point_position):\n",
    "        return all([LinearProgrammingModel.evaluate_condition(condition, point_position) for condition in self.conditions])\n",
    "    \n",
    "    @staticmethod\n",
    "    def generate_start_point(dimensions, value):\n",
    "        return {\"x\"+str(i): str(value) for i in range(1, dimensions+1)}\n",
    "    \n",
    "    @staticmethod\n",
    "    def replace_all(text, dic):\n",
    "        for i, j in dic.items():\n",
    "            text = text.replace(i, j)\n",
    "        return text\n",
    "    \n",
    "    @staticmethod\n",
    "    def evaluate_condition(condition, point_position):\n",
    "        condition = LinearProgrammingModel.replace_all(condition, point_position)\n",
    "        return eval(condition)\n",
    "        \n",
    "    @staticmethod\n",
    "    def generate_point_in_vicinity(point, r):\n",
    "        return {key: str(value + LinearProgrammingModel.random_number_in_vicinity(r)) for key, value in point.items()}\n",
    "    \n",
    "    @staticmethod\n",
    "    def random_number_in_vicinity(r):\n",
    "        return random.randint(0,2*r) - r"
   ]
  },
  {
   "cell_type": "markdown",
   "metadata": {},
   "source": [
    "### 4. Problem definition"
   ]
  },
  {
   "cell_type": "code",
   "execution_count": 51,
   "metadata": {
    "collapsed": true
   },
   "outputs": [],
   "source": [
    "dimensions = 3\n",
    "equation = \"5*x1 + 4*x2 + 3*x3\"\n",
    "optimization = \"max\"\n",
    "conditions = [\n",
    "    \"2*x1 + 3*x2 + x3 <= 5\",\n",
    "    \"4*x1 + x2 + 2*x3 <= 11\",\n",
    "    \"3*x1 + 4*x2 + 2*x3 <= 8\",\n",
    "    \"x1 >= 0\",\n",
    "    \"x2 >= 0\",\n",
    "    \"x3 >= 0\",\n",
    "]"
   ]
  },
  {
   "cell_type": "markdown",
   "metadata": {},
   "source": [
    "### 5. Solve problem"
   ]
  },
  {
   "cell_type": "code",
   "execution_count": 52,
   "metadata": {
    "scrolled": false
   },
   "outputs": [
    {
     "name": "stdout",
     "output_type": "stream",
     "text": [
      "Score: None\n",
      "R: 10.0\n",
      "Point: None\n",
      "--------------------------------------------------------------------------------\n"
     ]
    },
    {
     "ename": "TypeError",
     "evalue": "unsupported operand type(s) for -: 'int' and 'NoneType'",
     "output_type": "error",
     "traceback": [
      "\u001b[0;31m---------------------------------------------------------------------------\u001b[0m",
      "\u001b[0;31mTypeError\u001b[0m                                 Traceback (most recent call last)",
      "\u001b[0;32m<ipython-input-52-93e99ff5b679>\u001b[0m in \u001b[0;36m<module>\u001b[0;34m()\u001b[0m\n\u001b[1;32m      4\u001b[0m                                  verbose=True)\n\u001b[1;32m      5\u001b[0m \u001b[0;34m\u001b[0m\u001b[0m\n\u001b[0;32m----> 6\u001b[0;31m \u001b[0mlp_model\u001b[0m\u001b[0;34m.\u001b[0m\u001b[0mfit\u001b[0m\u001b[0;34m(\u001b[0m\u001b[0mdimensions\u001b[0m\u001b[0;34m=\u001b[0m\u001b[0mdimensions\u001b[0m\u001b[0;34m,\u001b[0m \u001b[0mequation\u001b[0m\u001b[0;34m=\u001b[0m\u001b[0mequation\u001b[0m\u001b[0;34m,\u001b[0m \u001b[0moptimization\u001b[0m\u001b[0;34m=\u001b[0m\u001b[0moptimization\u001b[0m\u001b[0;34m,\u001b[0m \u001b[0mconditions\u001b[0m\u001b[0;34m=\u001b[0m\u001b[0mconditions\u001b[0m\u001b[0;34m)\u001b[0m\u001b[0;34m\u001b[0m\u001b[0m\n\u001b[0m",
      "\u001b[0;32m<ipython-input-50-ef0c572b19cf>\u001b[0m in \u001b[0;36mfit\u001b[0;34m(self, dimensions, equation, optimization, conditions)\u001b[0m\n\u001b[1;32m     51\u001b[0m                 \u001b[0mprint\u001b[0m\u001b[0;34m(\u001b[0m\u001b[0;34m\"-\"\u001b[0m \u001b[0;34m*\u001b[0m \u001b[0;36m80\u001b[0m\u001b[0;34m)\u001b[0m\u001b[0;34m\u001b[0m\u001b[0m\n\u001b[1;32m     52\u001b[0m \u001b[0;34m\u001b[0m\u001b[0m\n\u001b[0;32m---> 53\u001b[0;31m             \u001b[0;32mif\u001b[0m \u001b[0mabs\u001b[0m\u001b[0;34m(\u001b[0m\u001b[0mprev_score\u001b[0m \u001b[0;34m-\u001b[0m \u001b[0mscore\u001b[0m\u001b[0;34m)\u001b[0m \u001b[0;34m<=\u001b[0m \u001b[0mself\u001b[0m\u001b[0;34m.\u001b[0m\u001b[0mmax_eps\u001b[0m\u001b[0;34m:\u001b[0m\u001b[0;34m\u001b[0m\u001b[0m\n\u001b[0m\u001b[1;32m     54\u001b[0m                 \u001b[0mself\u001b[0m\u001b[0;34m.\u001b[0m\u001b[0mno_improvement_count\u001b[0m \u001b[0;34m+=\u001b[0m \u001b[0;36m1\u001b[0m\u001b[0;34m\u001b[0m\u001b[0m\n\u001b[1;32m     55\u001b[0m                 \u001b[0;32mif\u001b[0m \u001b[0mself\u001b[0m\u001b[0;34m.\u001b[0m\u001b[0mno_improvement_max_sweep\u001b[0m \u001b[0;34m==\u001b[0m \u001b[0mself\u001b[0m\u001b[0;34m.\u001b[0m\u001b[0mno_improvement_count\u001b[0m\u001b[0;34m:\u001b[0m\u001b[0;34m\u001b[0m\u001b[0m\n",
      "\u001b[0;31mTypeError\u001b[0m: unsupported operand type(s) for -: 'int' and 'NoneType'"
     ]
    }
   ],
   "source": [
    "lp_model = LinearProgrammingModel(points_per_sweep=NUMBER_OF_RANDOM_POINTS_PER_SWEEP,\n",
    "                                 max_cord_value=MAX_POINT_COORDINATE_VALUE,\n",
    "                                 max_eps=EPS,\n",
    "                                 verbose=True)\n",
    "\n",
    "lp_model.fit(dimensions=dimensions, equation=equation, optimization=optimization, conditions=conditions)"
   ]
  },
  {
   "cell_type": "markdown",
   "metadata": {},
   "source": [
    "### 6. Visualization of the solution"
   ]
  },
  {
   "cell_type": "code",
   "execution_count": null,
   "metadata": {
    "collapsed": true
   },
   "outputs": [],
   "source": [
    "def make_plot(x_values, y_values, x_name, y_name, plot_name, trace_color_marker, trace_color_line):\n",
    "\n",
    "    trace = go.Scatter(\n",
    "        x = x_values,\n",
    "        y = y_values,\n",
    "        name=y_name,\n",
    "        mode = 'lines+markers',\n",
    "        marker=dict(\n",
    "            color=trace_color_marker,\n",
    "            line=dict(\n",
    "                color=trace_color_line,\n",
    "                width=2,\n",
    "            ),\n",
    "            symbol=\"hexagon-dot\",\n",
    "            size=8\n",
    "        ),\n",
    "    )\n",
    "\n",
    "    layout = go.Layout(\n",
    "        barmode='stack',\n",
    "        title=plot_name,\n",
    "        titlefont=dict(size=25),\n",
    "        width=750,\n",
    "        height=500,\n",
    "        paper_bgcolor='rgb(244, 238, 225)',\n",
    "        plot_bgcolor='rgb(244, 238, 225)',\n",
    "        yaxis = dict(\n",
    "            title=y_name,\n",
    "            anchor = 'x'\n",
    "        ),\n",
    "        xaxis = dict(title=x_name)\n",
    "    )\n",
    "\n",
    "    fig = go.Figure(data=[trace], layout=layout)\n",
    "    py.iplot(fig)"
   ]
  },
  {
   "cell_type": "code",
   "execution_count": null,
   "metadata": {
    "scrolled": false
   },
   "outputs": [],
   "source": [
    "labels = list(range(1, len(lp_model.scores_after_iterations) + 1))\n",
    "\n",
    "make_plot(labels, \n",
    "          lp_model.scores_after_iterations, \n",
    "          'Iterations', \n",
    "          'Function value per iteration', \n",
    "          'Convergence of optimized function', \n",
    "          'rgba(55, 128, 191, 0.7)', \n",
    "          'rgba(55, 128, 191, 1.0)')\n",
    "\n",
    "make_plot(labels, \n",
    "          lp_model.point_after_iterations[0], \n",
    "          'Iterations', \n",
    "          'Value of x1 per iteration', \n",
    "          'Convergence of x1 coordinate', \n",
    "          'rgba(219, 64, 82, 0.7)', \n",
    "          'rgba(219, 64, 82, 1.0)')\n",
    "\n",
    "make_plot(labels, \n",
    "          lp_model.point_after_iterations[1], \n",
    "          'Iterations', \n",
    "          'Value of x2 per iteration', \n",
    "          'Convergence of x2 coordinate', \n",
    "          'rgba(0, 168, 107, 0.7)', \n",
    "          'rgba(0, 168, 107, 1.0)')\n",
    "\n",
    "make_plot(labels, \n",
    "          lp_model.point_after_iterations[2], \n",
    "          'Iterations', \n",
    "          'Value of x3 per iteration', \n",
    "          'Convergence of x3 coordinate', \n",
    "          'rgba(250, 92, 0, 0.7)', \n",
    "          'rgba(250, 92, 0, 1.0)')"
   ]
  },
  {
   "cell_type": "code",
   "execution_count": null,
   "metadata": {
    "collapsed": true
   },
   "outputs": [],
   "source": []
  }
 ],
 "metadata": {
  "kernelspec": {
   "display_name": "Python 3",
   "language": "python",
   "name": "python3"
  },
  "language_info": {
   "codemirror_mode": {
    "name": "ipython",
    "version": 3
   },
   "file_extension": ".py",
   "mimetype": "text/x-python",
   "name": "python",
   "nbconvert_exporter": "python",
   "pygments_lexer": "ipython3",
   "version": "3.6.3"
  }
 },
 "nbformat": 4,
 "nbformat_minor": 2
}
