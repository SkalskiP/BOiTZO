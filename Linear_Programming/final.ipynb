{
 "cells": [
  {
   "cell_type": "markdown",
   "metadata": {},
   "source": [
    "# Monte Carlo Linear Programming with Python"
   ]
  },
  {
   "cell_type": "markdown",
   "metadata": {},
   "source": [
    "***Piotr Skalski - 01.05.2018***"
   ]
  },
  {
   "cell_type": "markdown",
   "metadata": {},
   "source": [
    "### 1. Imports"
   ]
  },
  {
   "cell_type": "code",
   "execution_count": 180,
   "metadata": {},
   "outputs": [
    {
     "data": {
      "text/html": [
       "<script>requirejs.config({paths: { 'plotly': ['https://cdn.plot.ly/plotly-latest.min']},});if(!window.Plotly) {{require(['plotly'],function(plotly) {window.Plotly=plotly;});}}</script>"
      ],
      "text/vnd.plotly.v1+html": [
       "<script>requirejs.config({paths: { 'plotly': ['https://cdn.plot.ly/plotly-latest.min']},});if(!window.Plotly) {{require(['plotly'],function(plotly) {window.Plotly=plotly;});}}</script>"
      ]
     },
     "metadata": {},
     "output_type": "display_data"
    }
   ],
   "source": [
    "import random\n",
    "import datetime\n",
    "import numpy as np\n",
    "\n",
    "import matplotlib.pyplot as plt\n",
    "import matplotlib.colors as colors\n",
    "%matplotlib inline\n",
    "\n",
    "import plotly.offline as py\n",
    "py.init_notebook_mode(connected=True)\n",
    "import plotly.graph_objs as go\n",
    "import plotly.tools as tls"
   ]
  },
  {
   "cell_type": "markdown",
   "metadata": {},
   "source": [
    "### 2. Model settings"
   ]
  },
  {
   "cell_type": "code",
   "execution_count": 198,
   "metadata": {
    "collapsed": true
   },
   "outputs": [],
   "source": [
    "# The range of values from which random coordinates will be generated\n",
    "MAX_POINT_COORDINATE_VALUE = 40000\n",
    "# The number of random points generated as part of a single iteration\n",
    "NUMBER_OF_RANDOM_POINTS_PER_SWEEP = 10000\n",
    "# The maximum allowable difference in results obtained in subsequent iterations\n",
    "EPS = 2"
   ]
  },
  {
   "cell_type": "markdown",
   "metadata": {},
   "source": [
    "### 3. LinearProgrammingModel class definition"
   ]
  },
  {
   "cell_type": "code",
   "execution_count": 234,
   "metadata": {
    "collapsed": true
   },
   "outputs": [],
   "source": [
    "class LinearProgrammingModel():\n",
    "    \n",
    "    def __init__(self, points_per_sweep=100000, max_cord_value=100000, max_eps=10, verbose=True, no_improvement_max_sweep = 3):\n",
    "        self.points_per_sweep = points_per_sweep\n",
    "        self.max_cord_value = max_cord_value\n",
    "        self.max_eps = max_eps\n",
    "        self.verbose = verbose\n",
    "        self.scores_after_iterations = []\n",
    "        self.point_after_iterations = []\n",
    "        self.no_improvement_max_sweep = no_improvement_max_sweep\n",
    "        self.no_improvement_count = 0\n",
    "        \n",
    "        self.dimensions = None\n",
    "        self.equation = None\n",
    "        self.optimization = None\n",
    "        self.conditions = None\n",
    "        \n",
    "        self.supported_operations = {\n",
    "            \"log\" : \"np.log\",\n",
    "            \"sin\" : \"np.sin\",\n",
    "            \"cos\" : \"np.cos\",\n",
    "            \"tan\" : \"np.tan\",\n",
    "            \"sqrt\" : \"np.sqrt\",\n",
    "            \"absolute\" : \"np.absolute\"\n",
    "        }\n",
    "        \n",
    "    def fit(self, dimensions, equation, optimization, conditions):\n",
    "        self.dimensions = dimensions\n",
    "        self.equation = equation\n",
    "        self.optimization = optimization\n",
    "        self.conditions = conditions\n",
    "        self.point_after_iterations = [[] for i in range(self.dimensions)]\n",
    "        \n",
    "        self.model_preprocessing()\n",
    "        \n",
    "        r = self.max_cord_value/2\n",
    "        center = LinearProgrammingModel.generate_start_point(self.dimensions, int(r))\n",
    "        prev_score = 100000000\n",
    "\n",
    "        while True:\n",
    "            point, score = self.single_sweep(center, r)\n",
    "            \n",
    "            self.scores_after_iterations.append(score)\n",
    "            for i in range(self.dimensions):\n",
    "                self.point_after_iterations[i].append(point[\"x\" + str(i+1)])\n",
    "            \n",
    "            if self.verbose:\n",
    "                print(\"Score: \" + str(score))\n",
    "                print(\"R: \" + str(r))\n",
    "                print(\"Point: \" + str(point))\n",
    "                print(\"-\" * 80)\n",
    "   \n",
    "            if abs(prev_score - score) <= self.max_eps:\n",
    "                self.no_improvement_count += 1\n",
    "                if self.no_improvement_max_sweep == self.no_improvement_count:\n",
    "                    return point, score\n",
    "                else:\n",
    "                    prev_score = score\n",
    "                    center = point\n",
    "            else:\n",
    "                self.no_improvement_count = 0\n",
    "                prev_score = score\n",
    "                center = point\n",
    "                r = int(r/2)\n",
    "        \n",
    "    def single_sweep(self, center, r):\n",
    "        best_point = None\n",
    "        best_score = None\n",
    "\n",
    "        if self.validate_single_point(center):\n",
    "            best_point = center\n",
    "            equation = LinearProgrammingModel.replace_all(self.equation, center)\n",
    "            best_score = eval(equation)\n",
    "\n",
    "        for i in range(self.points_per_sweep):\n",
    "            random_point = LinearProgrammingModel.generate_point_in_vicinity(center, r)\n",
    "\n",
    "            if self.validate_single_point(random_point):\n",
    "                equation = LinearProgrammingModel.replace_all(self.equation, random_point)\n",
    "                value = eval(equation)\n",
    "                if self.optimization is \"max\" and (best_score == None or best_score < value):\n",
    "                    best_point = random_point\n",
    "                    best_score = value\n",
    "                elif self.optimization is \"min\" and (best_score == None or best_score > value):\n",
    "                    best_point = random_point\n",
    "                    best_score = value\n",
    "\n",
    "        return best_point, best_score\n",
    "        \n",
    "    def model_preprocessing(self):\n",
    "        self.conditions = [LinearProgrammingModel.replace_all(condition, self.supported_operations) for condition in self.conditions]\n",
    "        self.equation = LinearProgrammingModel.replace_all(self.equation, self.supported_operations)\n",
    "\n",
    "    def validate_single_point(self, point_position):\n",
    "        return all([LinearProgrammingModel.evaluate_condition(condition, point_position) for condition in self.conditions])\n",
    "    \n",
    "    @staticmethod\n",
    "    def generate_start_point(dimensions, value):\n",
    "        return {\"x\"+str(i): str(value) for i in range(1, dimensions+1)}\n",
    "    \n",
    "    @staticmethod\n",
    "    def replace_all(text, dic):\n",
    "        for i, j in dic.items():\n",
    "            text = text.replace(i, j)\n",
    "        return text\n",
    "    \n",
    "    @staticmethod\n",
    "    def evaluate_condition(condition, point_position):\n",
    "        condition = LinearProgrammingModel.replace_all(condition, point_position)\n",
    "        return eval(condition)\n",
    "        \n",
    "    @staticmethod\n",
    "    def generate_point_in_vicinity(point, r):\n",
    "        return {key: str(int(value) + LinearProgrammingModel.random_number_in_vicinity(r)) for key, value in point.items()}\n",
    "    \n",
    "    @staticmethod\n",
    "    def random_number_in_vicinity(r):\n",
    "        return int(random.randint(0,2*r) - r)"
   ]
  },
  {
   "cell_type": "markdown",
   "metadata": {},
   "source": [
    "### 4. Problem definition"
   ]
  },
  {
   "cell_type": "code",
   "execution_count": 235,
   "metadata": {
    "collapsed": true
   },
   "outputs": [],
   "source": [
    "dimensions = 4\n",
    "equation = \"4*x1 + 6*x2 + 3*x3 + 12*x4\"\n",
    "optimization = \"max\"\n",
    "conditions = [\n",
    "    \"x1 + 2*x2 + 1.5*x3 + 6*x4 <= 90000\",\n",
    "    \"2*x1 + 2*x2 + 1.5*x3 + 4*x4 <= 120000\",\n",
    "    \"x1 >= 0\",\n",
    "    \"x2 >= 0\",\n",
    "    \"x3 >= 0\",\n",
    "    \"x4 >= 0\"\n",
    "]"
   ]
  },
  {
   "cell_type": "markdown",
   "metadata": {},
   "source": [
    "### 5. Solve problem"
   ]
  },
  {
   "cell_type": "code",
   "execution_count": 236,
   "metadata": {
    "scrolled": false
   },
   "outputs": [
    {
     "data": {
      "text/plain": [
       "({'x1': '30000', 'x2': '30000', 'x3': '0', 'x4': '0'}, 300000)"
      ]
     },
     "execution_count": 236,
     "metadata": {},
     "output_type": "execute_result"
    }
   ],
   "source": [
    "lp_model = LinearProgrammingModel(points_per_sweep=NUMBER_OF_RANDOM_POINTS_PER_SWEEP,\n",
    "                                 max_cord_value=MAX_POINT_COORDINATE_VALUE,\n",
    "                                 max_eps=EPS,\n",
    "                                 verbose=False)\n",
    "\n",
    "lp_model.fit(dimensions=dimensions, equation=equation, optimization=optimization, conditions=conditions)"
   ]
  },
  {
   "cell_type": "markdown",
   "metadata": {},
   "source": [
    "### 6. Visualization of the solution"
   ]
  },
  {
   "cell_type": "code",
   "execution_count": 237,
   "metadata": {},
   "outputs": [],
   "source": [
    "def make_plot(x_values, y_values, x_name, y_name, plot_name, trace_color_marker, trace_color_line):\n",
    "\n",
    "    trace = go.Scatter(\n",
    "        x = x_values,\n",
    "        y = y_values,\n",
    "        name=y_name,\n",
    "        mode = 'lines+markers',\n",
    "        marker=dict(\n",
    "            color=trace_color_marker,\n",
    "            line=dict(\n",
    "                color=trace_color_line,\n",
    "                width=2,\n",
    "            ),\n",
    "            symbol=\"hexagon-dot\",\n",
    "            size=8\n",
    "        ),\n",
    "    )\n",
    "\n",
    "    layout = go.Layout(\n",
    "        barmode='stack',\n",
    "        title=plot_name,\n",
    "        titlefont=dict(size=25),\n",
    "        width=750,\n",
    "        height=500,\n",
    "        paper_bgcolor='rgb(244, 238, 225)',\n",
    "        plot_bgcolor='rgb(244, 238, 225)',\n",
    "        yaxis = dict(\n",
    "            title=y_name,\n",
    "            anchor = 'x'\n",
    "        ),\n",
    "        xaxis = dict(title=x_name)\n",
    "    )\n",
    "\n",
    "    fig = go.Figure(data=[trace], layout=layout)\n",
    "    py.iplot(fig)"
   ]
  },
  {
   "cell_type": "code",
   "execution_count": 238,
   "metadata": {
    "scrolled": false
   },
   "outputs": [
    {
     "data": {
      "application/vnd.plotly.v1+json": {
       "data": [
        {
         "marker": {
          "color": "rgba(55, 128, 191, 0.7)",
          "line": {
           "color": "rgba(55, 128, 191, 1.0)",
           "width": 2
          },
          "size": 8,
          "symbol": "hexagon-dot"
         },
         "mode": "lines+markers",
         "name": "Function value per iteration",
         "type": "scatter",
         "x": [
          1,
          2,
          3,
          4,
          5,
          6,
          7,
          8,
          9,
          10,
          11,
          12,
          13,
          14,
          15,
          16
         ],
         "y": [
          273143,
          290292,
          294482,
          298118,
          298830,
          299437,
          299731,
          299880,
          299915,
          299972,
          299981,
          299992,
          299998,
          300000,
          300000,
          300000
         ]
        }
       ],
       "layout": {
        "barmode": "stack",
        "height": 500,
        "paper_bgcolor": "rgb(244, 238, 225)",
        "plot_bgcolor": "rgb(244, 238, 225)",
        "title": "Convergence of optimized function",
        "titlefont": {
         "size": 25
        },
        "width": 750,
        "xaxis": {
         "title": "Iterations"
        },
        "yaxis": {
         "anchor": "x",
         "title": "Function value per iteration"
        }
       }
      },
      "text/html": [
       "<div id=\"2cc86337-7c8a-4f7d-8d5f-9a26f95f51a4\" style=\"height: 500px; width: 750px;\" class=\"plotly-graph-div\"></div><script type=\"text/javascript\">require([\"plotly\"], function(Plotly) { window.PLOTLYENV=window.PLOTLYENV || {};window.PLOTLYENV.BASE_URL=\"https://plot.ly\";Plotly.newPlot(\"2cc86337-7c8a-4f7d-8d5f-9a26f95f51a4\", [{\"type\": \"scatter\", \"x\": [1, 2, 3, 4, 5, 6, 7, 8, 9, 10, 11, 12, 13, 14, 15, 16], \"y\": [273143, 290292, 294482, 298118, 298830, 299437, 299731, 299880, 299915, 299972, 299981, 299992, 299998, 300000, 300000, 300000], \"name\": \"Function value per iteration\", \"mode\": \"lines+markers\", \"marker\": {\"color\": \"rgba(55, 128, 191, 0.7)\", \"line\": {\"color\": \"rgba(55, 128, 191, 1.0)\", \"width\": 2}, \"symbol\": \"hexagon-dot\", \"size\": 8}}], {\"barmode\": \"stack\", \"title\": \"Convergence of optimized function\", \"titlefont\": {\"size\": 25}, \"width\": 750, \"height\": 500, \"paper_bgcolor\": \"rgb(244, 238, 225)\", \"plot_bgcolor\": \"rgb(244, 238, 225)\", \"yaxis\": {\"title\": \"Function value per iteration\", \"anchor\": \"x\"}, \"xaxis\": {\"title\": \"Iterations\"}}, {\"showLink\": true, \"linkText\": \"Export to plot.ly\"})});</script>"
      ],
      "text/vnd.plotly.v1+html": [
       "<div id=\"2cc86337-7c8a-4f7d-8d5f-9a26f95f51a4\" style=\"height: 500px; width: 750px;\" class=\"plotly-graph-div\"></div><script type=\"text/javascript\">require([\"plotly\"], function(Plotly) { window.PLOTLYENV=window.PLOTLYENV || {};window.PLOTLYENV.BASE_URL=\"https://plot.ly\";Plotly.newPlot(\"2cc86337-7c8a-4f7d-8d5f-9a26f95f51a4\", [{\"type\": \"scatter\", \"x\": [1, 2, 3, 4, 5, 6, 7, 8, 9, 10, 11, 12, 13, 14, 15, 16], \"y\": [273143, 290292, 294482, 298118, 298830, 299437, 299731, 299880, 299915, 299972, 299981, 299992, 299998, 300000, 300000, 300000], \"name\": \"Function value per iteration\", \"mode\": \"lines+markers\", \"marker\": {\"color\": \"rgba(55, 128, 191, 0.7)\", \"line\": {\"color\": \"rgba(55, 128, 191, 1.0)\", \"width\": 2}, \"symbol\": \"hexagon-dot\", \"size\": 8}}], {\"barmode\": \"stack\", \"title\": \"Convergence of optimized function\", \"titlefont\": {\"size\": 25}, \"width\": 750, \"height\": 500, \"paper_bgcolor\": \"rgb(244, 238, 225)\", \"plot_bgcolor\": \"rgb(244, 238, 225)\", \"yaxis\": {\"title\": \"Function value per iteration\", \"anchor\": \"x\"}, \"xaxis\": {\"title\": \"Iterations\"}}, {\"showLink\": true, \"linkText\": \"Export to plot.ly\"})});</script>"
      ]
     },
     "metadata": {},
     "output_type": "display_data"
    },
    {
     "data": {
      "application/vnd.plotly.v1+json": {
       "data": [
        {
         "marker": {
          "color": "rgba(219, 64, 82, 0.7)",
          "line": {
           "color": "rgba(219, 64, 82, 1.0)",
           "width": 2
          },
          "size": 8,
          "symbol": "hexagon-dot"
         },
         "mode": "lines+markers",
         "name": "Value of x1 per iteration",
         "type": "scatter",
         "x": [
          1,
          2,
          3,
          4,
          5,
          6,
          7,
          8,
          9,
          10,
          11,
          12,
          13,
          14,
          15,
          16
         ],
         "y": [
          "27440",
          "30903",
          "29864",
          "30254",
          "29919",
          "29824",
          "29965",
          "29994",
          "29990",
          "29993",
          "29999",
          "29995",
          "29998",
          "30000",
          "30000",
          "30000"
         ]
        }
       ],
       "layout": {
        "barmode": "stack",
        "height": 500,
        "paper_bgcolor": "rgb(244, 238, 225)",
        "plot_bgcolor": "rgb(244, 238, 225)",
        "title": "Convergence of x1 coordinate",
        "titlefont": {
         "size": 25
        },
        "width": 750,
        "xaxis": {
         "title": "Iterations"
        },
        "yaxis": {
         "anchor": "x",
         "title": "Value of x1 per iteration"
        }
       }
      },
      "text/html": [
       "<div id=\"9102164a-19ac-4a37-bcb5-846b23b8e72a\" style=\"height: 500px; width: 750px;\" class=\"plotly-graph-div\"></div><script type=\"text/javascript\">require([\"plotly\"], function(Plotly) { window.PLOTLYENV=window.PLOTLYENV || {};window.PLOTLYENV.BASE_URL=\"https://plot.ly\";Plotly.newPlot(\"9102164a-19ac-4a37-bcb5-846b23b8e72a\", [{\"type\": \"scatter\", \"x\": [1, 2, 3, 4, 5, 6, 7, 8, 9, 10, 11, 12, 13, 14, 15, 16], \"y\": [\"27440\", \"30903\", \"29864\", \"30254\", \"29919\", \"29824\", \"29965\", \"29994\", \"29990\", \"29993\", \"29999\", \"29995\", \"29998\", \"30000\", \"30000\", \"30000\"], \"name\": \"Value of x1 per iteration\", \"mode\": \"lines+markers\", \"marker\": {\"color\": \"rgba(219, 64, 82, 0.7)\", \"line\": {\"color\": \"rgba(219, 64, 82, 1.0)\", \"width\": 2}, \"symbol\": \"hexagon-dot\", \"size\": 8}}], {\"barmode\": \"stack\", \"title\": \"Convergence of x1 coordinate\", \"titlefont\": {\"size\": 25}, \"width\": 750, \"height\": 500, \"paper_bgcolor\": \"rgb(244, 238, 225)\", \"plot_bgcolor\": \"rgb(244, 238, 225)\", \"yaxis\": {\"title\": \"Value of x1 per iteration\", \"anchor\": \"x\"}, \"xaxis\": {\"title\": \"Iterations\"}}, {\"showLink\": true, \"linkText\": \"Export to plot.ly\"})});</script>"
      ],
      "text/vnd.plotly.v1+html": [
       "<div id=\"9102164a-19ac-4a37-bcb5-846b23b8e72a\" style=\"height: 500px; width: 750px;\" class=\"plotly-graph-div\"></div><script type=\"text/javascript\">require([\"plotly\"], function(Plotly) { window.PLOTLYENV=window.PLOTLYENV || {};window.PLOTLYENV.BASE_URL=\"https://plot.ly\";Plotly.newPlot(\"9102164a-19ac-4a37-bcb5-846b23b8e72a\", [{\"type\": \"scatter\", \"x\": [1, 2, 3, 4, 5, 6, 7, 8, 9, 10, 11, 12, 13, 14, 15, 16], \"y\": [\"27440\", \"30903\", \"29864\", \"30254\", \"29919\", \"29824\", \"29965\", \"29994\", \"29990\", \"29993\", \"29999\", \"29995\", \"29998\", \"30000\", \"30000\", \"30000\"], \"name\": \"Value of x1 per iteration\", \"mode\": \"lines+markers\", \"marker\": {\"color\": \"rgba(219, 64, 82, 0.7)\", \"line\": {\"color\": \"rgba(219, 64, 82, 1.0)\", \"width\": 2}, \"symbol\": \"hexagon-dot\", \"size\": 8}}], {\"barmode\": \"stack\", \"title\": \"Convergence of x1 coordinate\", \"titlefont\": {\"size\": 25}, \"width\": 750, \"height\": 500, \"paper_bgcolor\": \"rgb(244, 238, 225)\", \"plot_bgcolor\": \"rgb(244, 238, 225)\", \"yaxis\": {\"title\": \"Value of x1 per iteration\", \"anchor\": \"x\"}, \"xaxis\": {\"title\": \"Iterations\"}}, {\"showLink\": true, \"linkText\": \"Export to plot.ly\"})});</script>"
      ]
     },
     "metadata": {},
     "output_type": "display_data"
    },
    {
     "data": {
      "application/vnd.plotly.v1+json": {
       "data": [
        {
         "marker": {
          "color": "rgba(0, 168, 107, 0.7)",
          "line": {
           "color": "rgba(0, 168, 107, 1.0)",
           "width": 2
          },
          "size": 8,
          "symbol": "hexagon-dot"
         },
         "mode": "lines+markers",
         "name": "Value of x2 per iteration",
         "type": "scatter",
         "x": [
          1,
          2,
          3,
          4,
          5,
          6,
          7,
          8,
          9,
          10,
          11,
          12,
          13,
          14,
          15,
          16
         ],
         "y": [
          "19429",
          "24281",
          "28351",
          "29342",
          "29497",
          "29898",
          "29913",
          "29977",
          "29978",
          "30000",
          "29994",
          "30001",
          "30001",
          "30000",
          "30000",
          "30000"
         ]
        }
       ],
       "layout": {
        "barmode": "stack",
        "height": 500,
        "paper_bgcolor": "rgb(244, 238, 225)",
        "plot_bgcolor": "rgb(244, 238, 225)",
        "title": "Convergence of x2 coordinate",
        "titlefont": {
         "size": 25
        },
        "width": 750,
        "xaxis": {
         "title": "Iterations"
        },
        "yaxis": {
         "anchor": "x",
         "title": "Value of x2 per iteration"
        }
       }
      },
      "text/html": [
       "<div id=\"0b1a2552-743b-4c71-81d9-ff5ada9717e3\" style=\"height: 500px; width: 750px;\" class=\"plotly-graph-div\"></div><script type=\"text/javascript\">require([\"plotly\"], function(Plotly) { window.PLOTLYENV=window.PLOTLYENV || {};window.PLOTLYENV.BASE_URL=\"https://plot.ly\";Plotly.newPlot(\"0b1a2552-743b-4c71-81d9-ff5ada9717e3\", [{\"type\": \"scatter\", \"x\": [1, 2, 3, 4, 5, 6, 7, 8, 9, 10, 11, 12, 13, 14, 15, 16], \"y\": [\"19429\", \"24281\", \"28351\", \"29342\", \"29497\", \"29898\", \"29913\", \"29977\", \"29978\", \"30000\", \"29994\", \"30001\", \"30001\", \"30000\", \"30000\", \"30000\"], \"name\": \"Value of x2 per iteration\", \"mode\": \"lines+markers\", \"marker\": {\"color\": \"rgba(0, 168, 107, 0.7)\", \"line\": {\"color\": \"rgba(0, 168, 107, 1.0)\", \"width\": 2}, \"symbol\": \"hexagon-dot\", \"size\": 8}}], {\"barmode\": \"stack\", \"title\": \"Convergence of x2 coordinate\", \"titlefont\": {\"size\": 25}, \"width\": 750, \"height\": 500, \"paper_bgcolor\": \"rgb(244, 238, 225)\", \"plot_bgcolor\": \"rgb(244, 238, 225)\", \"yaxis\": {\"title\": \"Value of x2 per iteration\", \"anchor\": \"x\"}, \"xaxis\": {\"title\": \"Iterations\"}}, {\"showLink\": true, \"linkText\": \"Export to plot.ly\"})});</script>"
      ],
      "text/vnd.plotly.v1+html": [
       "<div id=\"0b1a2552-743b-4c71-81d9-ff5ada9717e3\" style=\"height: 500px; width: 750px;\" class=\"plotly-graph-div\"></div><script type=\"text/javascript\">require([\"plotly\"], function(Plotly) { window.PLOTLYENV=window.PLOTLYENV || {};window.PLOTLYENV.BASE_URL=\"https://plot.ly\";Plotly.newPlot(\"0b1a2552-743b-4c71-81d9-ff5ada9717e3\", [{\"type\": \"scatter\", \"x\": [1, 2, 3, 4, 5, 6, 7, 8, 9, 10, 11, 12, 13, 14, 15, 16], \"y\": [\"19429\", \"24281\", \"28351\", \"29342\", \"29497\", \"29898\", \"29913\", \"29977\", \"29978\", \"30000\", \"29994\", \"30001\", \"30001\", \"30000\", \"30000\", \"30000\"], \"name\": \"Value of x2 per iteration\", \"mode\": \"lines+markers\", \"marker\": {\"color\": \"rgba(0, 168, 107, 0.7)\", \"line\": {\"color\": \"rgba(0, 168, 107, 1.0)\", \"width\": 2}, \"symbol\": \"hexagon-dot\", \"size\": 8}}], {\"barmode\": \"stack\", \"title\": \"Convergence of x2 coordinate\", \"titlefont\": {\"size\": 25}, \"width\": 750, \"height\": 500, \"paper_bgcolor\": \"rgb(244, 238, 225)\", \"plot_bgcolor\": \"rgb(244, 238, 225)\", \"yaxis\": {\"title\": \"Value of x2 per iteration\", \"anchor\": \"x\"}, \"xaxis\": {\"title\": \"Iterations\"}}, {\"showLink\": true, \"linkText\": \"Export to plot.ly\"})});</script>"
      ]
     },
     "metadata": {},
     "output_type": "display_data"
    },
    {
     "data": {
      "application/vnd.plotly.v1+json": {
       "data": [
        {
         "marker": {
          "color": "rgba(250, 92, 0, 0.7)",
          "line": {
           "color": "rgba(250, 92, 0, 1.0)",
           "width": 2
          },
          "size": 8,
          "symbol": "hexagon-dot"
         },
         "mode": "lines+markers",
         "name": "Value of x3 per iteration",
         "type": "scatter",
         "x": [
          1,
          2,
          3,
          4,
          5,
          6,
          7,
          8,
          9,
          10,
          11,
          12,
          13,
          14,
          15,
          16
         ],
         "y": [
          "14599",
          "5098",
          "1536",
          "130",
          "520",
          "199",
          "115",
          "6",
          "13",
          "0",
          "7",
          "2",
          "0",
          "0",
          "0",
          "0"
         ]
        }
       ],
       "layout": {
        "barmode": "stack",
        "height": 500,
        "paper_bgcolor": "rgb(244, 238, 225)",
        "plot_bgcolor": "rgb(244, 238, 225)",
        "title": "Convergence of x3 coordinate",
        "titlefont": {
         "size": 25
        },
        "width": 750,
        "xaxis": {
         "title": "Iterations"
        },
        "yaxis": {
         "anchor": "x",
         "title": "Value of x3 per iteration"
        }
       }
      },
      "text/html": [
       "<div id=\"f3f788f6-500c-48ad-abfa-de2deb7a8c48\" style=\"height: 500px; width: 750px;\" class=\"plotly-graph-div\"></div><script type=\"text/javascript\">require([\"plotly\"], function(Plotly) { window.PLOTLYENV=window.PLOTLYENV || {};window.PLOTLYENV.BASE_URL=\"https://plot.ly\";Plotly.newPlot(\"f3f788f6-500c-48ad-abfa-de2deb7a8c48\", [{\"type\": \"scatter\", \"x\": [1, 2, 3, 4, 5, 6, 7, 8, 9, 10, 11, 12, 13, 14, 15, 16], \"y\": [\"14599\", \"5098\", \"1536\", \"130\", \"520\", \"199\", \"115\", \"6\", \"13\", \"0\", \"7\", \"2\", \"0\", \"0\", \"0\", \"0\"], \"name\": \"Value of x3 per iteration\", \"mode\": \"lines+markers\", \"marker\": {\"color\": \"rgba(250, 92, 0, 0.7)\", \"line\": {\"color\": \"rgba(250, 92, 0, 1.0)\", \"width\": 2}, \"symbol\": \"hexagon-dot\", \"size\": 8}}], {\"barmode\": \"stack\", \"title\": \"Convergence of x3 coordinate\", \"titlefont\": {\"size\": 25}, \"width\": 750, \"height\": 500, \"paper_bgcolor\": \"rgb(244, 238, 225)\", \"plot_bgcolor\": \"rgb(244, 238, 225)\", \"yaxis\": {\"title\": \"Value of x3 per iteration\", \"anchor\": \"x\"}, \"xaxis\": {\"title\": \"Iterations\"}}, {\"showLink\": true, \"linkText\": \"Export to plot.ly\"})});</script>"
      ],
      "text/vnd.plotly.v1+html": [
       "<div id=\"f3f788f6-500c-48ad-abfa-de2deb7a8c48\" style=\"height: 500px; width: 750px;\" class=\"plotly-graph-div\"></div><script type=\"text/javascript\">require([\"plotly\"], function(Plotly) { window.PLOTLYENV=window.PLOTLYENV || {};window.PLOTLYENV.BASE_URL=\"https://plot.ly\";Plotly.newPlot(\"f3f788f6-500c-48ad-abfa-de2deb7a8c48\", [{\"type\": \"scatter\", \"x\": [1, 2, 3, 4, 5, 6, 7, 8, 9, 10, 11, 12, 13, 14, 15, 16], \"y\": [\"14599\", \"5098\", \"1536\", \"130\", \"520\", \"199\", \"115\", \"6\", \"13\", \"0\", \"7\", \"2\", \"0\", \"0\", \"0\", \"0\"], \"name\": \"Value of x3 per iteration\", \"mode\": \"lines+markers\", \"marker\": {\"color\": \"rgba(250, 92, 0, 0.7)\", \"line\": {\"color\": \"rgba(250, 92, 0, 1.0)\", \"width\": 2}, \"symbol\": \"hexagon-dot\", \"size\": 8}}], {\"barmode\": \"stack\", \"title\": \"Convergence of x3 coordinate\", \"titlefont\": {\"size\": 25}, \"width\": 750, \"height\": 500, \"paper_bgcolor\": \"rgb(244, 238, 225)\", \"plot_bgcolor\": \"rgb(244, 238, 225)\", \"yaxis\": {\"title\": \"Value of x3 per iteration\", \"anchor\": \"x\"}, \"xaxis\": {\"title\": \"Iterations\"}}, {\"showLink\": true, \"linkText\": \"Export to plot.ly\"})});</script>"
      ]
     },
     "metadata": {},
     "output_type": "display_data"
    },
    {
     "data": {
      "application/vnd.plotly.v1+json": {
       "data": [
        {
         "marker": {
          "color": "rgba(55, 128, 191, 0.7)",
          "line": {
           "color": "rgba(55, 128, 191, 1.0)",
           "width": 2
          },
          "size": 8,
          "symbol": "hexagon-dot"
         },
         "mode": "lines+markers",
         "name": "Value of x4 per iteration",
         "type": "scatter",
         "x": [
          1,
          2,
          3,
          4,
          5,
          6,
          7,
          8,
          9,
          10,
          11,
          12,
          13,
          14,
          15,
          16
         ],
         "y": [
          "251",
          "475",
          "26",
          "55",
          "51",
          "13",
          "4",
          "2",
          "4",
          "0",
          "0",
          "0",
          "0",
          "0",
          "0",
          "0"
         ]
        }
       ],
       "layout": {
        "barmode": "stack",
        "height": 500,
        "paper_bgcolor": "rgb(244, 238, 225)",
        "plot_bgcolor": "rgb(244, 238, 225)",
        "title": "Convergence of x4 coordinate",
        "titlefont": {
         "size": 25
        },
        "width": 750,
        "xaxis": {
         "title": "Iterations"
        },
        "yaxis": {
         "anchor": "x",
         "title": "Value of x4 per iteration"
        }
       }
      },
      "text/html": [
       "<div id=\"486288bc-4683-4011-98e0-a3dc57efb53e\" style=\"height: 500px; width: 750px;\" class=\"plotly-graph-div\"></div><script type=\"text/javascript\">require([\"plotly\"], function(Plotly) { window.PLOTLYENV=window.PLOTLYENV || {};window.PLOTLYENV.BASE_URL=\"https://plot.ly\";Plotly.newPlot(\"486288bc-4683-4011-98e0-a3dc57efb53e\", [{\"type\": \"scatter\", \"x\": [1, 2, 3, 4, 5, 6, 7, 8, 9, 10, 11, 12, 13, 14, 15, 16], \"y\": [\"251\", \"475\", \"26\", \"55\", \"51\", \"13\", \"4\", \"2\", \"4\", \"0\", \"0\", \"0\", \"0\", \"0\", \"0\", \"0\"], \"name\": \"Value of x4 per iteration\", \"mode\": \"lines+markers\", \"marker\": {\"color\": \"rgba(55, 128, 191, 0.7)\", \"line\": {\"color\": \"rgba(55, 128, 191, 1.0)\", \"width\": 2}, \"symbol\": \"hexagon-dot\", \"size\": 8}}], {\"barmode\": \"stack\", \"title\": \"Convergence of x4 coordinate\", \"titlefont\": {\"size\": 25}, \"width\": 750, \"height\": 500, \"paper_bgcolor\": \"rgb(244, 238, 225)\", \"plot_bgcolor\": \"rgb(244, 238, 225)\", \"yaxis\": {\"title\": \"Value of x4 per iteration\", \"anchor\": \"x\"}, \"xaxis\": {\"title\": \"Iterations\"}}, {\"showLink\": true, \"linkText\": \"Export to plot.ly\"})});</script>"
      ],
      "text/vnd.plotly.v1+html": [
       "<div id=\"486288bc-4683-4011-98e0-a3dc57efb53e\" style=\"height: 500px; width: 750px;\" class=\"plotly-graph-div\"></div><script type=\"text/javascript\">require([\"plotly\"], function(Plotly) { window.PLOTLYENV=window.PLOTLYENV || {};window.PLOTLYENV.BASE_URL=\"https://plot.ly\";Plotly.newPlot(\"486288bc-4683-4011-98e0-a3dc57efb53e\", [{\"type\": \"scatter\", \"x\": [1, 2, 3, 4, 5, 6, 7, 8, 9, 10, 11, 12, 13, 14, 15, 16], \"y\": [\"251\", \"475\", \"26\", \"55\", \"51\", \"13\", \"4\", \"2\", \"4\", \"0\", \"0\", \"0\", \"0\", \"0\", \"0\", \"0\"], \"name\": \"Value of x4 per iteration\", \"mode\": \"lines+markers\", \"marker\": {\"color\": \"rgba(55, 128, 191, 0.7)\", \"line\": {\"color\": \"rgba(55, 128, 191, 1.0)\", \"width\": 2}, \"symbol\": \"hexagon-dot\", \"size\": 8}}], {\"barmode\": \"stack\", \"title\": \"Convergence of x4 coordinate\", \"titlefont\": {\"size\": 25}, \"width\": 750, \"height\": 500, \"paper_bgcolor\": \"rgb(244, 238, 225)\", \"plot_bgcolor\": \"rgb(244, 238, 225)\", \"yaxis\": {\"title\": \"Value of x4 per iteration\", \"anchor\": \"x\"}, \"xaxis\": {\"title\": \"Iterations\"}}, {\"showLink\": true, \"linkText\": \"Export to plot.ly\"})});</script>"
      ]
     },
     "metadata": {},
     "output_type": "display_data"
    }
   ],
   "source": [
    "labels = list(range(1, len(lp_model.scores_after_iterations) + 1))\n",
    "\n",
    "make_plot(labels, \n",
    "          lp_model.scores_after_iterations, \n",
    "          'Iterations', \n",
    "          'Function value per iteration', \n",
    "          'Convergence of optimized function', \n",
    "          'rgba(55, 128, 191, 0.7)', \n",
    "          'rgba(55, 128, 191, 1.0)')\n",
    "\n",
    "make_plot(labels, \n",
    "          lp_model.point_after_iterations[0], \n",
    "          'Iterations', \n",
    "          'Value of x1 per iteration', \n",
    "          'Convergence of x1 coordinate', \n",
    "          'rgba(219, 64, 82, 0.7)', \n",
    "          'rgba(219, 64, 82, 1.0)')\n",
    "\n",
    "make_plot(labels, \n",
    "          lp_model.point_after_iterations[1], \n",
    "          'Iterations', \n",
    "          'Value of x2 per iteration', \n",
    "          'Convergence of x2 coordinate', \n",
    "          'rgba(0, 168, 107, 0.7)', \n",
    "          'rgba(0, 168, 107, 1.0)')\n",
    "\n",
    "make_plot(labels, \n",
    "          lp_model.point_after_iterations[2], \n",
    "          'Iterations', \n",
    "          'Value of x3 per iteration', \n",
    "          'Convergence of x3 coordinate', \n",
    "          'rgba(250, 92, 0, 0.7)', \n",
    "          'rgba(250, 92, 0, 1.0)')\n",
    "\n",
    "make_plot(labels, \n",
    "          lp_model.point_after_iterations[3], \n",
    "          'Iterations', \n",
    "          'Value of x4 per iteration', \n",
    "          'Convergence of x4 coordinate', \n",
    "          'rgba(55, 128, 191, 0.7)', \n",
    "          'rgba(55, 128, 191, 1.0)')"
   ]
  },
  {
   "cell_type": "code",
   "execution_count": null,
   "metadata": {
    "collapsed": true
   },
   "outputs": [],
   "source": []
  }
 ],
 "metadata": {
  "kernelspec": {
   "display_name": "Python 3",
   "language": "python",
   "name": "python3"
  },
  "language_info": {
   "codemirror_mode": {
    "name": "ipython",
    "version": 3
   },
   "file_extension": ".py",
   "mimetype": "text/x-python",
   "name": "python",
   "nbconvert_exporter": "python",
   "pygments_lexer": "ipython3",
   "version": "3.6.3"
  }
 },
 "nbformat": 4,
 "nbformat_minor": 2
}
