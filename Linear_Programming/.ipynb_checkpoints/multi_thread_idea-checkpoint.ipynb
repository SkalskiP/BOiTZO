{
 "cells": [
  {
   "cell_type": "code",
   "execution_count": 130,
   "metadata": {
    "collapsed": true
   },
   "outputs": [],
   "source": [
    "import random\n",
    "import datetime\n",
    "import numpy as np\n",
    "from threading import Thread"
   ]
  },
  {
   "cell_type": "code",
   "execution_count": 153,
   "metadata": {
    "collapsed": true
   },
   "outputs": [],
   "source": [
    "# Settings\n",
    "MAX_POINT_COORDINATE_VALUE = 40000\n",
    "NUMBER_OF_RANDOM_POINTS_PER_SWEEP = 1000\n",
    "NUMBER_OF_RANDOM_POINTS_PER_SWEEP_MULTI = 100000\n",
    "EPS = 2\n",
    "NUMBER_OF_MODELS = 30\n",
    "NUMBER_OF_THREADS = 10"
   ]
  },
  {
   "cell_type": "code",
   "execution_count": 132,
   "metadata": {
    "collapsed": true
   },
   "outputs": [],
   "source": [
    "model = {\n",
    "    \"dimensions\" : 4,\n",
    "    \"equation\" : \"4*x1 + 6*x2 + 3*x3 + 12*x4\",\n",
    "    \"optimization\" : \"max\",\n",
    "    \"conditions\" : [\n",
    "        \"x1 + 2*x2 + 1.5*x3 + 6*x4 <= 90000\",\n",
    "        \"2*x1 + 2*x2 + 1.5*x3 + 4*x4 <= 120000\",\n",
    "        \"x1 >= 0\",\n",
    "        \"x2 >= 0\",\n",
    "        \"x3 >= 0\",\n",
    "        \"x4 >= 0\"\n",
    "    ]\n",
    "}"
   ]
  },
  {
   "cell_type": "code",
   "execution_count": 133,
   "metadata": {
    "collapsed": true
   },
   "outputs": [],
   "source": [
    "supported_operations = {\n",
    "    \"log\" : \"np.log\",\n",
    "    \"sin\" : \"np.sin\",\n",
    "    \"cos\" : \"np.cos\",\n",
    "    \"tan\" : \"np.tan\",\n",
    "    \"sqrt\" : \"np.sqrt\",\n",
    "    \"absolute\" : \"np.absolute\"\n",
    "}"
   ]
  },
  {
   "cell_type": "code",
   "execution_count": 134,
   "metadata": {
    "collapsed": true
   },
   "outputs": [],
   "source": [
    "# Using string replace substitute variables with selected values\n",
    "def replace_all(text, dic):\n",
    "    for i, j in dic.items():\n",
    "        text = text.replace(i, j)\n",
    "    return text"
   ]
  },
  {
   "cell_type": "code",
   "execution_count": 135,
   "metadata": {
    "collapsed": true
   },
   "outputs": [],
   "source": [
    "# Initial processing of task conditions\n",
    "def model_preprocessing(model, supported_operations):\n",
    "    preprocessed_model = model.copy()\n",
    "    preprocessed_model[\"conditions\"] = [replace_all(condition, supported_operations) for condition in model[\"conditions\"]]\n",
    "    preprocessed_model[\"equation\"] = replace_all(model[\"equation\"], supported_operations)\n",
    "    return preprocessed_model"
   ]
  },
  {
   "cell_type": "code",
   "execution_count": 136,
   "metadata": {
    "collapsed": true
   },
   "outputs": [],
   "source": [
    "# Evaluate single condition\n",
    "def evaluate_condition(condition, point_position):\n",
    "    condition = replace_all(condition, point_position)\n",
    "    return eval(condition)"
   ]
  },
  {
   "cell_type": "code",
   "execution_count": 137,
   "metadata": {
    "collapsed": true
   },
   "outputs": [],
   "source": [
    "# Validate conditions for point\n",
    "def validate_single_point(conditions, point_position):\n",
    "    return all([evaluate_condition(condition, point_position) for condition in conditions])"
   ]
  },
  {
   "cell_type": "code",
   "execution_count": 138,
   "metadata": {
    "collapsed": true
   },
   "outputs": [],
   "source": [
    "# Generate dictionary with start point position\n",
    "def generate_start_point(dimensions, value):\n",
    "    return {\"x\"+str(i): str(value) for i in range(1, dimensions+1)}"
   ]
  },
  {
   "cell_type": "code",
   "execution_count": 139,
   "metadata": {
    "collapsed": true
   },
   "outputs": [],
   "source": [
    "# Generate dictionary with random point position\n",
    "def generate_point(dimensions):\n",
    "    return {\"x\"+str(i): str(random.randint(0,MAX_POINT_COORDINATE_VALUE)) for i in range(1, dimensions+1)}"
   ]
  },
  {
   "cell_type": "code",
   "execution_count": 140,
   "metadata": {
    "collapsed": true
   },
   "outputs": [],
   "source": [
    "# Generate dictionary with random point position in the vicinity of other point\n",
    "def generate_point_in_vicinity(point, r):\n",
    "    return {key: str(int(value) + random_number_in_vicinity(r)) for key, value in point.items()}"
   ]
  },
  {
   "cell_type": "code",
   "execution_count": 141,
   "metadata": {
    "collapsed": true
   },
   "outputs": [],
   "source": [
    "# Generate number in specific vicinity from 0\n",
    "def random_number_in_vicinity(r):\n",
    "    return int(random.randint(0,2*r) - r)"
   ]
  },
  {
   "cell_type": "code",
   "execution_count": 142,
   "metadata": {
    "collapsed": true
   },
   "outputs": [],
   "source": [
    "# Perform single sweep in solution optimization\n",
    "\n",
    "def single_sweep(model, num_of_points, center, r):\n",
    "    best_point = None\n",
    "    best_score = None\n",
    "    \n",
    "    if validate_single_point(model[\"conditions\"], center):\n",
    "        best_point = center\n",
    "        equation = replace_all(model[\"equation\"], best_point)\n",
    "        best_score = eval(equation)\n",
    "    \n",
    "    for i in range(num_of_points):\n",
    "        # Generate random point position\n",
    "        random_point = generate_point_in_vicinity(center, r)\n",
    "            \n",
    "        if validate_single_point(model[\"conditions\"], random_point):\n",
    "            equation = replace_all(model[\"equation\"], random_point)\n",
    "            value = eval(equation)\n",
    "            if model[\"optimization\"] is \"max\" and (best_score == None or best_score < value):\n",
    "                best_point = random_point\n",
    "                best_score = value\n",
    "            elif model[\"optimization\"] is \"min\" and (best_score == None or best_score > value):\n",
    "                best_point = random_point\n",
    "                best_score = value\n",
    "        \n",
    "    return best_point, best_score"
   ]
  },
  {
   "cell_type": "code",
   "execution_count": 143,
   "metadata": {
    "collapsed": true
   },
   "outputs": [],
   "source": [
    "# Perform single sweep in solution optimization for single thread\n",
    "\n",
    "def single_sweep_in_thread(model, num_of_points, center, r, scores, points, index):\n",
    "    best_point = None\n",
    "    best_score = None\n",
    "    \n",
    "    if validate_single_point(model[\"conditions\"], center):\n",
    "        best_point = center\n",
    "        equation = replace_all(model[\"equation\"], best_point)\n",
    "        best_score = eval(equation)\n",
    "    \n",
    "    for i in range(num_of_points):\n",
    "        # Generate random point position\n",
    "        random_point = generate_point_in_vicinity(center, r)\n",
    "            \n",
    "        if validate_single_point(model[\"conditions\"], random_point):\n",
    "            equation = replace_all(model[\"equation\"], random_point)\n",
    "            value = eval(equation)\n",
    "            if model[\"optimization\"] is \"max\" and (best_score == None or best_score < value):\n",
    "                best_point = random_point\n",
    "                best_score = value\n",
    "            elif model[\"optimization\"] is \"min\" and (best_score == None or best_score > value):\n",
    "                best_point = random_point\n",
    "                best_score = value\n",
    "                \n",
    "    points[index] = best_point\n",
    "    scores[index] = best_score\n",
    "    return"
   ]
  },
  {
   "cell_type": "code",
   "execution_count": 144,
   "metadata": {
    "collapsed": true
   },
   "outputs": [],
   "source": [
    "def optimize_solution(model, min_r, max_no_improvement, verbose = True):\n",
    "    r = MAX_POINT_COORDINATE_VALUE\n",
    "    center = generate_start_point(model[\"dimensions\"], int(MAX_POINT_COORDINATE_VALUE/2))\n",
    "    prev_score = 100000000\n",
    "    steps_with_no_improvement = 0\n",
    "    \n",
    "    if verbose:\n",
    "        ts = datetime.datetime.now()\n",
    "        print(\"Start time: \" + str(ts))\n",
    "        t_per_sweep = ts\n",
    "\n",
    "    while r > min_r:\n",
    "        point, score = single_sweep(model, NUMBER_OF_RANDOM_POINTS_PER_SWEEP, center, r)\n",
    "        \n",
    "        if verbose:\n",
    "            current_time = datetime.datetime.now()\n",
    "            time_of_sweep = current_time - t_per_sweep\n",
    "            t_per_sweep = current_time\n",
    "            print(\"Time_of_sweep: \" + str(time_of_sweep))\n",
    "            print(\"Score: \" + str(score))\n",
    "            print(\"R: \" + str(r))\n",
    "            print(\"Point: \" + str(point))\n",
    "            print(\"---------------------------------\")\n",
    "        \n",
    "        if score == None:\n",
    "            steps_with_no_improvement += 1\n",
    "            \n",
    "        elif prev_score == score:\n",
    "            steps_with_no_improvement += 1\n",
    "            \n",
    "            if steps_with_no_improvement >= max_no_improvement:\n",
    "                \n",
    "                if verbose:\n",
    "                    tf = datetime.datetime.now()\n",
    "                    te = tf - ts\n",
    "                    print(\"End time: \" + str(tf))\n",
    "                    print(\"Run time: \" + str(te))\n",
    "\n",
    "                return point, score\n",
    "            \n",
    "            else:\n",
    "                prev_score = score\n",
    "                center = point\n",
    "                r = int(r/2)\n",
    "                \n",
    "        elif abs(prev_score - score) <= EPS:\n",
    "            \n",
    "            if verbose:\n",
    "                tf = datetime.datetime.now()\n",
    "                te = tf - ts\n",
    "                print(\"End time: \" + str(tf))\n",
    "                print(\"Run time: \" + str(te))\n",
    "            \n",
    "            return point, score\n",
    "        else:\n",
    "            steps_with_no_improvement = 0\n",
    "            prev_score = score\n",
    "            center = point\n",
    "            r = int(r/2)\n",
    "            \n",
    "    return point, score"
   ]
  },
  {
   "cell_type": "code",
   "execution_count": 154,
   "metadata": {},
   "outputs": [],
   "source": [
    "def multi_thread_optimize_solution(model):\n",
    "    r = MAX_POINT_COORDINATE_VALUE\n",
    "    center = generate_start_point(model[\"dimensions\"], int(MAX_POINT_COORDINATE_VALUE/2))\n",
    "    prev_score = 100000000\n",
    "    \n",
    "    ts = datetime.datetime.now()\n",
    "    print(\"Start time: \" + str(ts))\n",
    "    \n",
    "    t_per_sweep = ts\n",
    "    \n",
    "    while True:\n",
    "        iterations_per_thread = int(NUMBER_OF_RANDOM_POINTS_PER_SWEEP_MULTI/NUMBER_OF_THREADS)\n",
    "        \n",
    "        threads = [None] * NUMBER_OF_THREADS\n",
    "        scores = [None] * NUMBER_OF_THREADS\n",
    "        points = [None] * NUMBER_OF_THREADS\n",
    "        \n",
    "        for i in range(NUMBER_OF_THREADS):\n",
    "            threads[i] = Thread(target=single_sweep_in_thread, \n",
    "                                args=(model, iterations_per_thread, center, r, scores, points, i))\n",
    "            threads[i].start()\n",
    "            \n",
    "        for i in range(len(threads)):\n",
    "            threads[i].join()\n",
    "            \n",
    "        print(scores)\n",
    "        \n",
    "        if model[\"optimization\"] is \"max\":\n",
    "            optimal_index = np.argmax(np.asarray(scores))\n",
    "        elif model[\"optimization\"] is \"min\":\n",
    "            optimal_index = np.argmin(np.asarray(scores))\n",
    "            \n",
    "        point = points[optimal_index]\n",
    "        score = scores[optimal_index]\n",
    "        \n",
    "        current_time = datetime.datetime.now()\n",
    "        time_of_sweep = current_time - t_per_sweep\n",
    "        t_per_sweep = current_time\n",
    "        \n",
    "        print(\"Time_of_sweep: \" + str(time_of_sweep))\n",
    "        print(\"Score: \" + str(score))\n",
    "        print(\"R: \" + str(r))\n",
    "        print(\"Point: \" + str(point))\n",
    "        print(\"---------------------------------\")\n",
    "        \n",
    "        if abs(prev_score - score) <= EPS:\n",
    "            \n",
    "            tf = datetime.datetime.now()\n",
    "            te = tf - ts\n",
    "            print(\"End time: \" + str(tf))\n",
    "            print(\"Run time: \" + str(te))\n",
    "            \n",
    "            return point, score\n",
    "        else:\n",
    "            prev_score = score\n",
    "            center = point\n",
    "            r = int(r/2)"
   ]
  },
  {
   "cell_type": "code",
   "execution_count": 150,
   "metadata": {},
   "outputs": [
    {
     "name": "stdout",
     "output_type": "stream",
     "text": [
      "Iteration 0;  Score: 294118\n",
      "Iteration 1;  Score: 290274\n",
      "Iteration 2;  Score: 290552\n",
      "Iteration 3;  Score: 295284\n",
      "Iteration 4;  Score: 284938\n",
      "Iteration 5;  Score: 299076\n",
      "Iteration 6;  Score: 271409\n",
      "Iteration 7;  Score: 295966\n",
      "Iteration 8;  Score: 289812\n",
      "Iteration 9;  Score: 296994\n",
      "Iteration 10;  Score: 297308\n",
      "Iteration 11;  Score: 294820\n",
      "Iteration 12;  Score: 263274\n",
      "Iteration 13;  Score: 294178\n",
      "Iteration 14;  Score: 296508\n",
      "Iteration 15;  Score: 279422\n",
      "Iteration 16;  Score: 290704\n",
      "Iteration 17;  Score: 288054\n",
      "Iteration 18;  Score: 299843\n",
      "Iteration 19;  Score: 295311\n",
      "Iteration 20;  Score: 296144\n",
      "Iteration 21;  Score: 297787\n",
      "Iteration 22;  Score: 299752\n",
      "Iteration 23;  Score: 296308\n",
      "Iteration 24;  Score: 293390\n",
      "Iteration 25;  Score: 298792\n",
      "Iteration 26;  Score: 296122\n",
      "Iteration 27;  Score: 298490\n",
      "Iteration 28;  Score: 299648\n",
      "Iteration 29;  Score: 298616\n",
      "[294118, 290274, 290552, 295284, 284938, 299076, 271409, 295966, 289812, 296994, 297308, 294820, 263274, 294178, 296508, 279422, 290704, 288054, 299843, 295311, 296144, 297787, 299752, 296308, 293390, 298792, 296122, 298490, 299648, 298616]\n",
      "Score: 299843\n",
      "Point: {'x1': '30023', 'x2': '29899', 'x3': '71', 'x4': '12'}\n"
     ]
    }
   ],
   "source": [
    "# Test script\n",
    "\n",
    "processed_model = model_preprocessing(model, supported_operations)\n",
    "\n",
    "points = [None] * NUMBER_OF_MODELS\n",
    "scores = [None] * NUMBER_OF_MODELS\n",
    "\n",
    "for i in range(NUMBER_OF_MODELS):\n",
    "    points[i], scores[i] = optimize_solution(processed_model, 1, 5, verbose=False)\n",
    "    print(\"Iteration {};  Score: {}\".format(i, scores[i])) \n",
    "\n",
    "if model[\"optimization\"] is \"max\":\n",
    "    optimal_index = np.argmax(np.asarray(scores))\n",
    "elif model[\"optimization\"] is \"min\":\n",
    "    optimal_index = np.argmin(np.asarray(scores))\n",
    "\n",
    "point = points[optimal_index]\n",
    "score = scores[optimal_index]\n",
    "    \n",
    "print(\"Score: \" + str(score))\n",
    "print(\"Point: \" + str(point))"
   ]
  },
  {
   "cell_type": "code",
   "execution_count": 155,
   "metadata": {},
   "outputs": [
    {
     "name": "stdout",
     "output_type": "stream",
     "text": [
      "Start time: 2018-04-22 20:03:44.934438\n",
      "[264136, 263533, 279164, 272272, 255504, 254444, 272712, 278950, 287187, 277455]\n",
      "Time_of_sweep: 0:00:06.957298\n",
      "Score: 287187\n",
      "R: 40000\n",
      "Point: {'x1': '22737', 'x2': '30910', 'x3': '3225', 'x4': '92'}\n",
      "---------------------------------\n",
      "[287187, 287187, 287187, 287187, 287187, 287187, 287187, 288466, 287187, 294585]\n",
      "Time_of_sweep: 0:00:06.986156\n",
      "Score: 294585\n",
      "R: 20000\n",
      "Point: {'x1': '30930', 'x2': '27536', 'x3': '1235', 'x4': '162'}\n",
      "---------------------------------\n",
      "[294585, 294585, 294585, 294585, 294886, 294585, 294585, 294585, 294585, 294585]\n",
      "Time_of_sweep: 0:00:06.901872\n",
      "Score: 294886\n",
      "R: 10000\n",
      "Point: {'x1': '31132', 'x2': '26729', 'x3': '660', 'x4': '667'}\n",
      "---------------------------------\n",
      "[294886, 294886, 295136, 298317, 296104, 297400, 294886, 296381, 294886, 296010]\n",
      "Time_of_sweep: 0:00:06.972663\n",
      "Score: 298317\n",
      "R: 5000\n",
      "Point: {'x1': '30309', 'x2': '28956', 'x3': '87', 'x4': '257'}\n",
      "---------------------------------\n",
      "[299009, 298317, 298546, 298317, 298317, 298317, 298562, 298317, 298317, 298317]\n",
      "Time_of_sweep: 0:00:06.881176\n",
      "Score: 299009\n",
      "R: 2500\n",
      "Point: {'x1': '29924', 'x2': '29742', 'x3': '151', 'x4': '34'}\n",
      "---------------------------------\n",
      "[299010, 299009, 299462, 299009, 299009, 299009, 299013, 299121, 299009, 299009]\n",
      "Time_of_sweep: 0:00:06.913513\n",
      "Score: 299462\n",
      "R: 1250\n",
      "Point: {'x1': '30107', 'x2': '29668', 'x3': '18', 'x4': '81'}\n",
      "---------------------------------\n",
      "[299505, 299462, 299702, 299550, 299462, 299462, 299462, 299719, 299576, 299646]\n",
      "Time_of_sweep: 0:00:06.924872\n",
      "Score: 299719\n",
      "R: 625\n",
      "Point: {'x1': '29902', 'x2': '29978', 'x3': '25', 'x4': '14'}\n",
      "---------------------------------\n",
      "[299753, 299776, 299778, 299719, 299719, 299719, 299744, 299747, 299719, 299748]\n",
      "Time_of_sweep: 0:00:06.926760\n",
      "Score: 299778\n",
      "R: 312\n",
      "Point: {'x1': '30021', 'x2': '29872', 'x3': '46', 'x4': '27'}\n",
      "---------------------------------\n",
      "[299907, 299863, 299873, 299878, 299845, 299836, 299840, 299866, 299889, 299872]\n",
      "Time_of_sweep: 0:00:06.972373\n",
      "Score: 299907\n",
      "R: 156\n",
      "Point: {'x1': '29973', 'x2': '29984', 'x3': '33', 'x4': '1'}\n",
      "---------------------------------\n",
      "[299910, 299907, 299930, 299923, 299942, 299907, 299941, 299962, 299921, 299963]\n",
      "Time_of_sweep: 0:00:06.843833\n",
      "Score: 299963\n",
      "R: 78\n",
      "Point: {'x1': '30008', 'x2': '29982', 'x3': '1', 'x4': '3'}\n",
      "---------------------------------\n",
      "[299963, 299977, 299978, 299963, 299967, 299963, 299973, 299965, 299977, 299979]\n",
      "Time_of_sweep: 0:00:06.874795\n",
      "Score: 299979\n",
      "R: 39\n",
      "Point: {'x1': '30006', 'x2': '29984', 'x3': '5', 'x4': '3'}\n",
      "---------------------------------\n",
      "[299992, 299982, 299987, 299988, 299980, 299992, 299979, 299996, 299984, 299983]\n",
      "Time_of_sweep: 0:00:06.960123\n",
      "Score: 299996\n",
      "R: 19\n",
      "Point: {'x1': '29999', 'x2': '29999', 'x3': '2', 'x4': '0'}\n",
      "---------------------------------\n",
      "[300000, 299996, 299996, 299997, 299996, 299998, 299996, 299996, 299996, 299996]\n",
      "Time_of_sweep: 0:00:06.857496\n",
      "Score: 300000\n",
      "R: 9\n",
      "Point: {'x1': '30000', 'x2': '30000', 'x3': '0', 'x4': '0'}\n",
      "---------------------------------\n",
      "[300000, 300000, 300000, 300000, 300000, 300000, 300000, 300000, 300000, 300000]\n",
      "Time_of_sweep: 0:00:07.122562\n",
      "Score: 300000\n",
      "R: 4\n",
      "Point: {'x1': '30000', 'x2': '30000', 'x3': '0', 'x4': '0'}\n",
      "---------------------------------\n",
      "End time: 2018-04-22 20:05:22.030157\n",
      "Run time: 0:01:37.095719\n"
     ]
    }
   ],
   "source": [
    "# Test script multithread\n",
    "\n",
    "processed_model = model_preprocessing(model, supported_operations)\n",
    "point, score = multi_thread_optimize_solution(processed_model)"
   ]
  },
  {
   "cell_type": "code",
   "execution_count": null,
   "metadata": {
    "collapsed": true
   },
   "outputs": [],
   "source": []
  }
 ],
 "metadata": {
  "kernelspec": {
   "display_name": "Python 3",
   "language": "python",
   "name": "python3"
  },
  "language_info": {
   "codemirror_mode": {
    "name": "ipython",
    "version": 3
   },
   "file_extension": ".py",
   "mimetype": "text/x-python",
   "name": "python",
   "nbconvert_exporter": "python",
   "pygments_lexer": "ipython3",
   "version": "3.6.3"
  }
 },
 "nbformat": 4,
 "nbformat_minor": 2
}
