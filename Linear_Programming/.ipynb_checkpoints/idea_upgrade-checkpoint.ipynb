{
 "cells": [
  {
   "cell_type": "code",
   "execution_count": 287,
   "metadata": {
    "collapsed": true
   },
   "outputs": [],
   "source": [
    "import random\n",
    "import datetime\n",
    "import numpy as np"
   ]
  },
  {
   "cell_type": "code",
   "execution_count": 269,
   "metadata": {
    "collapsed": true
   },
   "outputs": [],
   "source": [
    "# Settings\n",
    "MAX_POINT_COORDINATE_VALUE = 40000\n",
    "NUMBER_OF_RANDOM_POINTS_PER_SWEEP = 100000\n",
    "EPS = 2"
   ]
  },
  {
   "cell_type": "code",
   "execution_count": 270,
   "metadata": {
    "collapsed": true
   },
   "outputs": [],
   "source": [
    "conditions = [\n",
    "    \"x1 + 2*x2 + 1.5*x3 + 6*x4 <= 90000\",\n",
    "    \"2*x1 + 2*x2 + 1.5*x3 + 4*x4 <= 120000\",\n",
    "    \"x1 >= 0\",\n",
    "    \"x2 >= 0\",\n",
    "    \"x3 >= 0\",\n",
    "    \"x4 >= 0\"\n",
    "]\n",
    "\n",
    "model = {\n",
    "    \"dimensions\" : 4,\n",
    "    \"equation\" : \"4*x1 + 6*x2 + 3*x3 + 12*x4\",\n",
    "    \"optimization\" : \"max\",\n",
    "    \"conditions\" : [\n",
    "        \"x1 + 2*x2 + 1.5*x3 + 6*x4 <= 90000\",\n",
    "        \"2*x1 + 2*x2 + 1.5*x3 + 4*x4 <= 120000\",\n",
    "        \"x1 >= 0\",\n",
    "        \"x2 >= 0\",\n",
    "        \"x3 >= 0\",\n",
    "        \"x4 >= 0\"\n",
    "    ]\n",
    "}"
   ]
  },
  {
   "cell_type": "code",
   "execution_count": 271,
   "metadata": {
    "collapsed": true
   },
   "outputs": [],
   "source": [
    "supported_operations = {\n",
    "    \"log\" : \"np.log\",\n",
    "    \"sin\" : \"np.sin\",\n",
    "    \"cos\" : \"np.cos\",\n",
    "    \"tan\" : \"np.tan\",\n",
    "    \"sqrt\" : \"np.sqrt\",\n",
    "    \"absolute\" : \"np.absolute\"\n",
    "}"
   ]
  },
  {
   "cell_type": "code",
   "execution_count": 272,
   "metadata": {
    "collapsed": true
   },
   "outputs": [],
   "source": [
    "random_point_position = {\n",
    "    \"x1\" : \"5\",\n",
    "    \"x2\" : \"7\",\n",
    "    \"x3\" : \"1\",\n",
    "    \"x4\" : \"10\"\n",
    "}"
   ]
  },
  {
   "cell_type": "code",
   "execution_count": 273,
   "metadata": {
    "collapsed": true
   },
   "outputs": [],
   "source": [
    "# Using string replace substitute variables with selected values\n",
    "def replace_all(text, dic):\n",
    "    for i, j in dic.items():\n",
    "        text = text.replace(i, j)\n",
    "    return text"
   ]
  },
  {
   "cell_type": "code",
   "execution_count": 274,
   "metadata": {
    "collapsed": true
   },
   "outputs": [],
   "source": [
    "# Initial processing of task conditions\n",
    "def model_preprocessing(model, supported_operations):\n",
    "    preprocessed_model = model.copy()\n",
    "    preprocessed_model[\"conditions\"] = [replace_all(condition, supported_operations) for condition in model[\"conditions\"]]\n",
    "    preprocessed_model[\"equation\"] = replace_all(model[\"equation\"], supported_operations)\n",
    "    return preprocessed_model"
   ]
  },
  {
   "cell_type": "code",
   "execution_count": 275,
   "metadata": {
    "collapsed": true
   },
   "outputs": [],
   "source": [
    "# Evaluate single condition\n",
    "def evaluate_condition(condition, point_position):\n",
    "    condition = replace_all(condition, point_position)\n",
    "    return eval(condition)"
   ]
  },
  {
   "cell_type": "code",
   "execution_count": 276,
   "metadata": {
    "collapsed": true
   },
   "outputs": [],
   "source": [
    "# Validate conditions for point\n",
    "def validate_single_point(conditions, point_position):\n",
    "    return all([evaluate_condition(condition, point_position) for condition in conditions])"
   ]
  },
  {
   "cell_type": "code",
   "execution_count": 277,
   "metadata": {
    "collapsed": true
   },
   "outputs": [],
   "source": [
    "# Generate dictionary with start point position\n",
    "def generate_start_point(dimensions, value):\n",
    "    return {\"x\"+str(i): str(value) for i in range(1, dimensions+1)}"
   ]
  },
  {
   "cell_type": "code",
   "execution_count": 278,
   "metadata": {
    "collapsed": true
   },
   "outputs": [],
   "source": [
    "# Generate dictionary with random point position\n",
    "def generate_point(dimensions):\n",
    "    return {\"x\"+str(i): str(random.randint(0,MAX_POINT_COORDINATE_VALUE)) for i in range(1, dimensions+1)}"
   ]
  },
  {
   "cell_type": "code",
   "execution_count": 279,
   "metadata": {
    "collapsed": true
   },
   "outputs": [],
   "source": [
    "# Generate dictionary with random point position in the vicinity of other point\n",
    "def generate_point_in_vicinity(point, r):\n",
    "    return {key: str(int(value) + random_number_in_vicinity(r)) for key, value in point.items()}"
   ]
  },
  {
   "cell_type": "code",
   "execution_count": 280,
   "metadata": {
    "collapsed": true
   },
   "outputs": [],
   "source": [
    "# Generate number in specific vicinity from 0\n",
    "def random_number_in_vicinity(r):\n",
    "    return int(random.randint(0,2*r) - r)"
   ]
  },
  {
   "cell_type": "code",
   "execution_count": 284,
   "metadata": {},
   "outputs": [],
   "source": [
    "# Perform single sweep in solution optimization\n",
    "\n",
    "def single_sweep(model, center, r):\n",
    "    best_point = None\n",
    "    best_score = None\n",
    "    \n",
    "    if validate_single_point(model[\"conditions\"], center):\n",
    "        best_point = center\n",
    "        equation = replace_all(model[\"equation\"], best_point)\n",
    "        best_score = eval(equation)\n",
    "    \n",
    "    for i in range(NUMBER_OF_RANDOM_POINTS_PER_SWEEP):\n",
    "        # Generate random point position\n",
    "        random_point = generate_point_in_vicinity(center, r)\n",
    "            \n",
    "        if validate_single_point(model[\"conditions\"], random_point):\n",
    "            equation = replace_all(model[\"equation\"], random_point)\n",
    "            value = eval(equation)\n",
    "            if model[\"optimization\"] is \"max\" and (best_score == None or best_score < value):\n",
    "                best_point = random_point\n",
    "                best_score = value\n",
    "            elif model[\"optimization\"] is \"min\" and (best_score == None or best_score > value):\n",
    "                best_point = random_point\n",
    "                best_score = value\n",
    "                \n",
    "    return best_point, best_score\n"
   ]
  },
  {
   "cell_type": "code",
   "execution_count": 295,
   "metadata": {},
   "outputs": [],
   "source": [
    "def optimize_solution(model):\n",
    "    r = MAX_POINT_COORDINATE_VALUE\n",
    "    center = generate_start_point(model[\"dimensions\"], int(MAX_POINT_COORDINATE_VALUE/2))\n",
    "    prev_score = 100000000\n",
    "    \n",
    "    ts = datetime.datetime.now()\n",
    "    print(\"Start time: \" + str(ts))\n",
    "    \n",
    "    while True:\n",
    "        point, score = single_sweep(model, center, r)\n",
    "        print(\"Score: \" + str(score))\n",
    "        print(\"R: \" + str(r))\n",
    "        print(\"Point: \" + str(point))\n",
    "        print(\"---------------------------------\")\n",
    "        \n",
    "        if abs(prev_score - score) <= EPS:\n",
    "            \n",
    "            tf = datetime.datetime.now()\n",
    "            te = tf - ts\n",
    "            print(\"End time: \" + str(tf))\n",
    "            print(\"Run time: \" + str(te))\n",
    "            \n",
    "            return point, score\n",
    "        else:\n",
    "            prev_score = score\n",
    "            center = point\n",
    "            r = int(r/2)"
   ]
  },
  {
   "cell_type": "code",
   "execution_count": 296,
   "metadata": {},
   "outputs": [
    {
     "name": "stdout",
     "output_type": "stream",
     "text": [
      "Start time: 2018-04-22 17:47:15.762713\n",
      "Score: 282046\n",
      "R: 40000\n",
      "Point: {'x1': '29557', 'x2': '24098', 'x3': '370', 'x4': '1510'}\n",
      "---------------------------------\n",
      "Score: 288094\n",
      "R: 20000\n",
      "Point: {'x1': '33559', 'x2': '24428', 'x3': '918', 'x4': '378'}\n",
      "---------------------------------\n",
      "Score: 294585\n",
      "R: 10000\n",
      "Point: {'x1': '31944', 'x2': '26078', 'x3': '187', 'x4': '815'}\n",
      "---------------------------------\n",
      "Score: 296761\n",
      "R: 5000\n",
      "Point: {'x1': '30190', 'x2': '28563', 'x3': '1497', 'x4': '11'}\n",
      "---------------------------------\n",
      "Score: 298390\n",
      "R: 2500\n",
      "Point: {'x1': '29905', 'x2': '29307', 'x3': '760', 'x4': '54'}\n",
      "---------------------------------\n",
      "Score: 299774\n",
      "R: 1250\n",
      "Point: {'x1': '29951', 'x2': '29936', 'x3': '90', 'x4': '7'}\n",
      "---------------------------------\n",
      "Score: 299774\n",
      "R: 625\n",
      "Point: {'x1': '29951', 'x2': '29936', 'x3': '90', 'x4': '7'}\n",
      "---------------------------------\n",
      "End time: 2018-04-22 17:48:01.393971\n",
      "Run time: 0:00:45.631258\n"
     ]
    }
   ],
   "source": [
    "# Test script\n",
    "\n",
    "processed_model = model_preprocessing(model, supported_operations)\n",
    "point, score = optimize_solution(processed_model)"
   ]
  },
  {
   "cell_type": "code",
   "execution_count": 237,
   "metadata": {
    "scrolled": true
   },
   "outputs": [
    {
     "name": "stdout",
     "output_type": "stream",
     "text": [
      "{'x1': '29999', 'x2': '29999', 'x3': '2', 'x4': '0'}\n"
     ]
    }
   ],
   "source": [
    "print(point)"
   ]
  },
  {
   "cell_type": "code",
   "execution_count": 238,
   "metadata": {},
   "outputs": [
    {
     "name": "stdout",
     "output_type": "stream",
     "text": [
      "299996\n"
     ]
    }
   ],
   "source": [
    "print(score)"
   ]
  },
  {
   "cell_type": "code",
   "execution_count": null,
   "metadata": {
    "collapsed": true
   },
   "outputs": [],
   "source": []
  }
 ],
 "metadata": {
  "kernelspec": {
   "display_name": "Python 3",
   "language": "python",
   "name": "python3"
  },
  "language_info": {
   "codemirror_mode": {
    "name": "ipython",
    "version": 3
   },
   "file_extension": ".py",
   "mimetype": "text/x-python",
   "name": "python",
   "nbconvert_exporter": "python",
   "pygments_lexer": "ipython3",
   "version": "3.6.3"
  }
 },
 "nbformat": 4,
 "nbformat_minor": 2
}
