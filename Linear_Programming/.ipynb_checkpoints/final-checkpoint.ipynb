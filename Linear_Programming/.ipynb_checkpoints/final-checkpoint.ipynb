{
 "cells": [
  {
   "cell_type": "markdown",
   "metadata": {},
   "source": [
    "# Monte Carlo Linear Programming with Python"
   ]
  },
  {
   "cell_type": "markdown",
   "metadata": {},
   "source": [
    "***Piotr Skalski - 01.05.2018***"
   ]
  },
  {
   "cell_type": "markdown",
   "metadata": {},
   "source": [
    "### 1. Imports"
   ]
  },
  {
   "cell_type": "code",
   "execution_count": 1,
   "metadata": {
    "collapsed": true
   },
   "outputs": [],
   "source": [
    "import random\n",
    "import datetime\n",
    "import numpy as np"
   ]
  },
  {
   "cell_type": "markdown",
   "metadata": {},
   "source": [
    "### 2. Model settings"
   ]
  },
  {
   "cell_type": "code",
   "execution_count": 2,
   "metadata": {
    "collapsed": true
   },
   "outputs": [],
   "source": [
    "# The range of values from which random coordinates will be generated\n",
    "MAX_POINT_COORDINATE_VALUE = 40000\n",
    "# The number of random points generated as part of a single iteration\n",
    "NUMBER_OF_RANDOM_POINTS_PER_SWEEP = 100000\n",
    "# The maximum allowable difference in results obtained in subsequent iterations\n",
    "EPS = 2"
   ]
  },
  {
   "cell_type": "markdown",
   "metadata": {},
   "source": [
    "### 3. LinearProgrammingModel class definition"
   ]
  },
  {
   "cell_type": "code",
   "execution_count": 9,
   "metadata": {},
   "outputs": [],
   "source": [
    "class LinearProgrammingModel():\n",
    "    \n",
    "    def __init__(self, points_per_sweep=100000, max_cord_value=100000, max_eps=10, verbose=True):\n",
    "        self.points_per_sweep = points_per_sweep\n",
    "        self.max_cord_value = max_cord_value\n",
    "        self.max_eps = max_eps\n",
    "        self.verbose = verbose\n",
    "        self.scores_after_iterations = []\n",
    "        self.point_after_iterations = []\n",
    "        \n",
    "        self.dimensions = None\n",
    "        self.equation = None\n",
    "        self.optimization = None\n",
    "        self.conditions = None\n",
    "        \n",
    "        self.supported_operations = {\n",
    "            \"log\" : \"np.log\",\n",
    "            \"sin\" : \"np.sin\",\n",
    "            \"cos\" : \"np.cos\",\n",
    "            \"tan\" : \"np.tan\",\n",
    "            \"sqrt\" : \"np.sqrt\",\n",
    "            \"absolute\" : \"np.absolute\"\n",
    "        }\n",
    "        \n",
    "    def fit(self, dimensions, equation, optimization, conditions):\n",
    "        self.dimensions = dimensions\n",
    "        self.equation = equation\n",
    "        self.optimization = optimization\n",
    "        self.conditions = conditions\n",
    "        \n",
    "        self.model_preprocessing()\n",
    "        \n",
    "    def model_preprocessing(self):\n",
    "        self.conditions = [LinearProgrammingModel.replace_all(condition, self.supported_operations) for condition in self.conditions]\n",
    "        self.equation = LinearProgrammingModel.replace_all(self.equation, self.supported_operations)\n",
    "\n",
    "    @staticmethod\n",
    "    def replace_all(text, dic):\n",
    "        for i, j in dic.items():\n",
    "            text = text.replace(i, j)\n",
    "        return text\n",
    "    \n",
    "    @staticmethod\n",
    "    def evaluate_condition(condition, point_position):\n",
    "        condition = replace_all(condition, point_position)\n",
    "        return eval(condition)\n",
    "        \n",
    "    "
   ]
  },
  {
   "cell_type": "code",
   "execution_count": 3,
   "metadata": {
    "collapsed": true
   },
   "outputs": [],
   "source": [
    "conditions = [\n",
    "    \"x1 + 2*x2 + 1.5*x3 + 6*x4 <= 90000\",\n",
    "    \"2*x1 + 2*x2 + 1.5*x3 + 4*x4 <= 120000\",\n",
    "    \"x1 >= 0\",\n",
    "    \"x2 >= 0\",\n",
    "    \"x3 >= 0\",\n",
    "    \"x4 >= 0\"\n",
    "]\n",
    "\n",
    "model = {\n",
    "    \"dimensions\" : 4,\n",
    "    \"equation\" : \"4*x1 + 6*x2 + 3*x3 + 12*x4\",\n",
    "    \"optimization\" : \"max\",\n",
    "    \"conditions\" : [\n",
    "        \"x1 + 2*x2 + 1.5*x3 + 6*x4 <= 90000\",\n",
    "        \"2*x1 + 2*x2 + 1.5*x3 + 4*x4 <= 120000\",\n",
    "        \"x1 >= 0\",\n",
    "        \"x2 >= 0\",\n",
    "        \"x3 >= 0\",\n",
    "        \"x4 >= 0\"\n",
    "    ]\n",
    "}"
   ]
  },
  {
   "cell_type": "code",
   "execution_count": 4,
   "metadata": {
    "collapsed": true
   },
   "outputs": [],
   "source": [
    "supported_operations = {\n",
    "    \"log\" : \"np.log\",\n",
    "    \"sin\" : \"np.sin\",\n",
    "    \"cos\" : \"np.cos\",\n",
    "    \"tan\" : \"np.tan\",\n",
    "    \"sqrt\" : \"np.sqrt\",\n",
    "    \"absolute\" : \"np.absolute\"\n",
    "}"
   ]
  },
  {
   "cell_type": "code",
   "execution_count": 6,
   "metadata": {
    "collapsed": true
   },
   "outputs": [],
   "source": [
    "# Using string replace substitute variables with selected values\n",
    "def replace_all(text, dic):\n",
    "    for i, j in dic.items():\n",
    "        text = text.replace(i, j)\n",
    "    return text"
   ]
  },
  {
   "cell_type": "code",
   "execution_count": 7,
   "metadata": {
    "collapsed": true
   },
   "outputs": [],
   "source": [
    "# Initial processing of task conditions\n",
    "def model_preprocessing(model, supported_operations):\n",
    "    preprocessed_model = model.copy()\n",
    "    preprocessed_model[\"conditions\"] = [replace_all(condition, supported_operations) for condition in model[\"conditions\"]]\n",
    "    preprocessed_model[\"equation\"] = replace_all(model[\"equation\"], supported_operations)\n",
    "    return preprocessed_model"
   ]
  },
  {
   "cell_type": "code",
   "execution_count": 8,
   "metadata": {
    "collapsed": true
   },
   "outputs": [],
   "source": [
    "# Evaluate single condition\n",
    "def evaluate_condition(condition, point_position):\n",
    "    condition = replace_all(condition, point_position)\n",
    "    return eval(condition)"
   ]
  },
  {
   "cell_type": "code",
   "execution_count": 9,
   "metadata": {
    "collapsed": true
   },
   "outputs": [],
   "source": [
    "# Validate conditions for point\n",
    "def validate_single_point(conditions, point_position):\n",
    "    return all([evaluate_condition(condition, point_position) for condition in conditions])"
   ]
  },
  {
   "cell_type": "code",
   "execution_count": 10,
   "metadata": {
    "collapsed": true
   },
   "outputs": [],
   "source": [
    "# Generate dictionary with start point position\n",
    "def generate_start_point(dimensions, value):\n",
    "    return {\"x\"+str(i): str(value) for i in range(1, dimensions+1)}"
   ]
  },
  {
   "cell_type": "code",
   "execution_count": 11,
   "metadata": {
    "collapsed": true
   },
   "outputs": [],
   "source": [
    "# Generate dictionary with random point position\n",
    "def generate_point(dimensions):\n",
    "    return {\"x\"+str(i): str(random.randint(0,MAX_POINT_COORDINATE_VALUE)) for i in range(1, dimensions+1)}"
   ]
  },
  {
   "cell_type": "code",
   "execution_count": 12,
   "metadata": {
    "collapsed": true
   },
   "outputs": [],
   "source": [
    "# Generate dictionary with random point position in the vicinity of other point\n",
    "def generate_point_in_vicinity(point, r):\n",
    "    return {key: str(int(value) + random_number_in_vicinity(r)) for key, value in point.items()}"
   ]
  },
  {
   "cell_type": "code",
   "execution_count": 13,
   "metadata": {
    "collapsed": true
   },
   "outputs": [],
   "source": [
    "# Generate number in specific vicinity from 0\n",
    "def random_number_in_vicinity(r):\n",
    "    return int(random.randint(0,2*r) - r)"
   ]
  },
  {
   "cell_type": "code",
   "execution_count": 14,
   "metadata": {
    "collapsed": true
   },
   "outputs": [],
   "source": [
    "# Perform single sweep in solution optimization\n",
    "\n",
    "def single_sweep(model, center, r):\n",
    "    best_point = None\n",
    "    best_score = None\n",
    "    \n",
    "    if validate_single_point(model[\"conditions\"], center):\n",
    "        best_point = center\n",
    "        equation = replace_all(model[\"equation\"], best_point)\n",
    "        best_score = eval(equation)\n",
    "    \n",
    "    for i in range(NUMBER_OF_RANDOM_POINTS_PER_SWEEP):\n",
    "        # Generate random point position\n",
    "        random_point = generate_point_in_vicinity(center, r)\n",
    "            \n",
    "        if validate_single_point(model[\"conditions\"], random_point):\n",
    "            equation = replace_all(model[\"equation\"], random_point)\n",
    "            value = eval(equation)\n",
    "            if model[\"optimization\"] is \"max\" and (best_score == None or best_score < value):\n",
    "                best_point = random_point\n",
    "                best_score = value\n",
    "            elif model[\"optimization\"] is \"min\" and (best_score == None or best_score > value):\n",
    "                best_point = random_point\n",
    "                best_score = value\n",
    "                \n",
    "    return best_point, best_score\n"
   ]
  },
  {
   "cell_type": "code",
   "execution_count": 15,
   "metadata": {
    "collapsed": true
   },
   "outputs": [],
   "source": [
    "def optimize_solution(model):\n",
    "    r = MAX_POINT_COORDINATE_VALUE\n",
    "    center = generate_start_point(model[\"dimensions\"], int(MAX_POINT_COORDINATE_VALUE/2))\n",
    "    prev_score = 100000000\n",
    "    \n",
    "    ts = datetime.datetime.now()\n",
    "    print(\"Start time: \" + str(ts))\n",
    "    \n",
    "    while True:\n",
    "        point, score = single_sweep(model, center, r)\n",
    "        print(\"Score: \" + str(score))\n",
    "        print(\"R: \" + str(r))\n",
    "        print(\"Point: \" + str(point))\n",
    "        print(\"---------------------------------\")\n",
    "        \n",
    "        if abs(prev_score - score) <= EPS:\n",
    "            \n",
    "            tf = datetime.datetime.now()\n",
    "            te = tf - ts\n",
    "            print(\"End time: \" + str(tf))\n",
    "            print(\"Run time: \" + str(te))\n",
    "            \n",
    "            return point, score\n",
    "        else:\n",
    "            prev_score = score\n",
    "            center = point\n",
    "            r = int(r/2)"
   ]
  },
  {
   "cell_type": "code",
   "execution_count": 16,
   "metadata": {},
   "outputs": [
    {
     "name": "stdout",
     "output_type": "stream",
     "text": [
      "Start time: 2018-05-01 09:07:01.711990\n",
      "Score: 273902\n",
      "R: 40000\n",
      "Point: {'x1': '33413', 'x2': '20792', 'x3': '2290', 'x4': '719'}\n",
      "---------------------------------\n",
      "Score: 291085\n",
      "R: 20000\n",
      "Point: {'x1': '31945', 'x2': '26241', 'x3': '677', 'x4': '319'}\n",
      "---------------------------------\n",
      "Score: 293173\n",
      "R: 10000\n",
      "Point: {'x1': '29881', 'x2': '27191', 'x3': '3225', 'x4': '69'}\n",
      "---------------------------------\n",
      "Score: 296850\n",
      "R: 5000\n",
      "Point: {'x1': '28374', 'x2': '30476', 'x3': '126', 'x4': '10'}\n",
      "---------------------------------\n",
      "Score: 298670\n",
      "R: 2500\n",
      "Point: {'x1': '29267', 'x2': '30187', 'x3': '112', 'x4': '12'}\n",
      "---------------------------------\n",
      "Score: 299403\n",
      "R: 1250\n",
      "Point: {'x1': '30009', 'x2': '29808', 'x3': '109', 'x4': '16'}\n",
      "---------------------------------\n",
      "Score: 299636\n",
      "R: 625\n",
      "Point: {'x1': '29915', 'x2': '29944', 'x3': '52', 'x4': '13'}\n",
      "---------------------------------\n",
      "Score: 299801\n",
      "R: 312\n",
      "Point: {'x1': '30062', 'x2': '29916', 'x3': '3', 'x4': '4'}\n",
      "---------------------------------\n",
      "Score: 299919\n",
      "R: 156\n",
      "Point: {'x1': '29994', 'x2': '29985', 'x3': '11', 'x4': '0'}\n",
      "---------------------------------\n",
      "Score: 299958\n",
      "R: 78\n",
      "Point: {'x1': '29979', 'x2': '30004', 'x3': '2', 'x4': '1'}\n",
      "---------------------------------\n",
      "Score: 299978\n",
      "R: 39\n",
      "Point: {'x1': '30005', 'x2': '29991', 'x3': '0', 'x4': '1'}\n",
      "---------------------------------\n",
      "Score: 299994\n",
      "R: 19\n",
      "Point: {'x1': '30000', 'x2': '29997', 'x3': '0', 'x4': '1'}\n",
      "---------------------------------\n",
      "Score: 299998\n",
      "R: 9\n",
      "Point: {'x1': '29998', 'x2': '30001', 'x3': '0', 'x4': '0'}\n",
      "---------------------------------\n",
      "Score: 300000\n",
      "R: 4\n",
      "Point: {'x1': '30000', 'x2': '30000', 'x3': '0', 'x4': '0'}\n",
      "---------------------------------\n",
      "End time: 2018-05-01 09:08:35.704379\n",
      "Run time: 0:01:33.992389\n"
     ]
    }
   ],
   "source": [
    "# Test script\n",
    "\n",
    "processed_model = model_preprocessing(model, supported_operations)\n",
    "point, score = optimize_solution(processed_model)"
   ]
  },
  {
   "cell_type": "code",
   "execution_count": 17,
   "metadata": {
    "scrolled": true
   },
   "outputs": [
    {
     "name": "stdout",
     "output_type": "stream",
     "text": [
      "{'x1': '30000', 'x2': '30000', 'x3': '0', 'x4': '0'}\n"
     ]
    }
   ],
   "source": [
    "print(point)"
   ]
  },
  {
   "cell_type": "code",
   "execution_count": 18,
   "metadata": {},
   "outputs": [
    {
     "name": "stdout",
     "output_type": "stream",
     "text": [
      "300000\n"
     ]
    }
   ],
   "source": [
    "print(score)"
   ]
  },
  {
   "cell_type": "code",
   "execution_count": null,
   "metadata": {
    "collapsed": true
   },
   "outputs": [],
   "source": []
  }
 ],
 "metadata": {
  "kernelspec": {
   "display_name": "Python 3",
   "language": "python",
   "name": "python3"
  },
  "language_info": {
   "codemirror_mode": {
    "name": "ipython",
    "version": 3
   },
   "file_extension": ".py",
   "mimetype": "text/x-python",
   "name": "python",
   "nbconvert_exporter": "python",
   "pygments_lexer": "ipython3",
   "version": "3.6.3"
  }
 },
 "nbformat": 4,
 "nbformat_minor": 2
}
