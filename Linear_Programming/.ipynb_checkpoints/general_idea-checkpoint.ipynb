{
 "cells": [
  {
   "cell_type": "code",
   "execution_count": 1,
   "metadata": {
    "collapsed": true
   },
   "outputs": [],
   "source": [
    "import random\n",
    "import numpy as np"
   ]
  },
  {
   "cell_type": "code",
   "execution_count": 2,
   "metadata": {
    "collapsed": true
   },
   "outputs": [],
   "source": [
    "# Settings\n",
    "MAX_POINT_COORDINATE_VALUE = 1000;\n",
    "NUMBER_OF_RANDOM_POINTS = 5000;"
   ]
  },
  {
   "cell_type": "code",
   "execution_count": 12,
   "metadata": {
    "collapsed": true
   },
   "outputs": [],
   "source": [
    "conditions = [\n",
    "    \"x1 + 2*x2 + 1.5*x3 + 6*x4 <= 90000\",\n",
    "    \"2*x1 + 2*x2 + 1.5*x3 + 4*x4 <= 120000\",\n",
    "    \"x1 >= 0\",\n",
    "    \"x2 >= 0\",\n",
    "    \"x3 >= 0\",\n",
    "    \"x4 >= 0\"\n",
    "]\n",
    "\n",
    "model = {\n",
    "    \"dimensions\" : 4,\n",
    "    \"equation\" : \"4*x1 + 6*x2 + 3*x3 + 12*x4\",\n",
    "    \"optimization\" : \"max\",\n",
    "    \"conditions\" : [\n",
    "        \"x1 + 2*x2 + 1.5*x3 + 6*x4 <= 90000\",\n",
    "        \"2*x1 + 2*x2 + 1.5*x3 + 4*x4 <= 120000\",\n",
    "        \"x1 >= 0\",\n",
    "        \"x2 >= 0\",\n",
    "        \"x3 >= 0\",\n",
    "        \"x4 >= 0\"\n",
    "    ]\n",
    "}"
   ]
  },
  {
   "cell_type": "code",
   "execution_count": 13,
   "metadata": {
    "collapsed": true
   },
   "outputs": [],
   "source": [
    "supported_operations = {\n",
    "    \"log\" : \"np.log\",\n",
    "    \"sin\" : \"np.sin\",\n",
    "    \"cos\" : \"np.cos\",\n",
    "    \"tan\" : \"np.tan\",\n",
    "    \"sqrt\" : \"np.sqrt\",\n",
    "    \"absolute\" : \"np.absolute\"\n",
    "}"
   ]
  },
  {
   "cell_type": "code",
   "execution_count": 14,
   "metadata": {
    "collapsed": true
   },
   "outputs": [],
   "source": [
    "random_point_position = {\n",
    "    \"x1\" : \"5\",\n",
    "    \"x2\" : \"7\",\n",
    "    \"x3\" : \"1\",\n",
    "    \"x4\" : \"10\"\n",
    "}"
   ]
  },
  {
   "cell_type": "code",
   "execution_count": 15,
   "metadata": {
    "collapsed": true
   },
   "outputs": [],
   "source": [
    "# Using string replace substitute variables with selected values\n",
    "def replace_all(text, dic):\n",
    "    for i, j in dic.items():\n",
    "        text = text.replace(i, j)\n",
    "    return text"
   ]
  },
  {
   "cell_type": "code",
   "execution_count": 16,
   "metadata": {
    "collapsed": true
   },
   "outputs": [],
   "source": [
    "# Initial processing of task conditions\n",
    "def conditions_processing(conditions, supported_operations):\n",
    "    return [replace_all(condition, supported_operations) for condition in conditions]"
   ]
  },
  {
   "cell_type": "code",
   "execution_count": 17,
   "metadata": {
    "collapsed": true
   },
   "outputs": [],
   "source": [
    "# Evaluate single condition\n",
    "def evaluate_condition(condition, point_position):\n",
    "    condition = replace_all(condition, point_position)\n",
    "    return eval(condition)"
   ]
  },
  {
   "cell_type": "code",
   "execution_count": 18,
   "metadata": {
    "collapsed": true
   },
   "outputs": [],
   "source": [
    "# Validate conditions for point\n",
    "def validate_single_point(conditions, point_position):\n",
    "    return all([evaluate_condition(condition, point_position) for condition in conditions])"
   ]
  },
  {
   "cell_type": "code",
   "execution_count": 19,
   "metadata": {
    "collapsed": true
   },
   "outputs": [],
   "source": [
    "# Generate dictionary with random point position\n",
    "def generate_point(dimensions):\n",
    "    return {\"x\"+str(i): random.randint(0,MAX_POINT_COORDINATE_VALUE) for i in range(1, dimensions+1)}"
   ]
  },
  {
   "cell_type": "code",
   "execution_count": 21,
   "metadata": {},
   "outputs": [
    {
     "ename": "SyntaxError",
     "evalue": "invalid syntax (<ipython-input-21-a73302d54e62>, line 10)",
     "output_type": "error",
     "traceback": [
      "\u001b[0;36m  File \u001b[0;32m\"<ipython-input-21-a73302d54e62>\"\u001b[0;36m, line \u001b[0;32m10\u001b[0m\n\u001b[0;31m    if\u001b[0m\n\u001b[0m      ^\u001b[0m\n\u001b[0;31mSyntaxError\u001b[0m\u001b[0;31m:\u001b[0m invalid syntax\n"
     ]
    }
   ],
   "source": [
    "# Find best solution\n",
    "def optimize_solution(model):\n",
    "    best_point = None\n",
    "    best_score = None\n",
    "    \n",
    "    for i in range(NUMBER_OF_RANDOM_POINTS):\n",
    "        # Generate random point position\n",
    "        random_point = generate_point(model[\"dimensions\"])\n",
    "        \n",
    "        if\n",
    "    "
   ]
  },
  {
   "cell_type": "code",
   "execution_count": 41,
   "metadata": {},
   "outputs": [
    {
     "data": {
      "text/plain": [
       "True"
      ]
     },
     "execution_count": 41,
     "metadata": {},
     "output_type": "execute_result"
    }
   ],
   "source": [
    "# Test script\n",
    "processed_conditions = conditions_processing(conditions, supported_operations)\n",
    "validate_single_point(processed_conditions, random_point_position)"
   ]
  },
  {
   "cell_type": "code",
   "execution_count": 42,
   "metadata": {},
   "outputs": [
    {
     "data": {
      "text/plain": [
       "{'x1': 785, 'x2': 564, 'x3': 994, 'x4': 305}"
      ]
     },
     "execution_count": 42,
     "metadata": {},
     "output_type": "execute_result"
    }
   ],
   "source": [
    "test = generate_point(4)\n",
    "test"
   ]
  },
  {
   "cell_type": "code",
   "execution_count": null,
   "metadata": {
    "collapsed": true
   },
   "outputs": [],
   "source": [
    "# Generate dictionary "
   ]
  }
 ],
 "metadata": {
  "kernelspec": {
   "display_name": "Python 3",
   "language": "python",
   "name": "python3"
  },
  "language_info": {
   "codemirror_mode": {
    "name": "ipython",
    "version": 3
   },
   "file_extension": ".py",
   "mimetype": "text/x-python",
   "name": "python",
   "nbconvert_exporter": "python",
   "pygments_lexer": "ipython3",
   "version": "3.6.3"
  }
 },
 "nbformat": 4,
 "nbformat_minor": 2
}
