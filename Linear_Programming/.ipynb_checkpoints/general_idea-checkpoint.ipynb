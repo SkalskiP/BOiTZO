{
 "cells": [
  {
   "cell_type": "code",
   "execution_count": 15,
   "metadata": {
    "collapsed": true
   },
   "outputs": [],
   "source": [
    "import numpy as np"
   ]
  },
  {
   "cell_type": "code",
   "execution_count": null,
   "metadata": {
    "collapsed": true
   },
   "outputs": [],
   "source": [
    "MAX_POINT_COORDINATE = 1000;"
   ]
  },
  {
   "cell_type": "code",
   "execution_count": 42,
   "metadata": {
    "collapsed": true
   },
   "outputs": [],
   "source": [
    "conditions = [\n",
    "    \"2*$1 + 5*$2 >= 10\",\n",
    "    \"15*log($2) + 5*$4 < 100\",\n",
    "    \"sin($2) + 10*cos($3) >= 1\",\n",
    "    \"3*$1 + 5*$2 + 10*$3 > 50\"\n",
    "]"
   ]
  },
  {
   "cell_type": "code",
   "execution_count": 43,
   "metadata": {},
   "outputs": [],
   "source": [
    "supported_operations = {\n",
    "    \"log\" : \"np.log\",\n",
    "    \"sin\" : \"np.sin\",\n",
    "    \"cos\" : \"np.cos\",\n",
    "    \"tan\" : \"np.tan\",\n",
    "    \"sqrt\" : \"np.sqrt\",\n",
    "    \"absolute\" : \"np.absolute\"\n",
    "}"
   ]
  },
  {
   "cell_type": "code",
   "execution_count": 44,
   "metadata": {
    "collapsed": true
   },
   "outputs": [],
   "source": [
    "random_point_position = {\n",
    "    \"$1\" : \"5\",\n",
    "    \"$2\" : \"7\",\n",
    "    \"$3\" : \"1\",\n",
    "    \"$4\" : \"10\"\n",
    "}"
   ]
  },
  {
   "cell_type": "code",
   "execution_count": 45,
   "metadata": {
    "collapsed": true
   },
   "outputs": [],
   "source": [
    "# Using string replace substitute variables with selected values\n",
    "def replace_all(text, dic):\n",
    "    for i, j in dic.items():\n",
    "        text = text.replace(i, j)\n",
    "    return text"
   ]
  },
  {
   "cell_type": "code",
   "execution_count": 51,
   "metadata": {
    "collapsed": true
   },
   "outputs": [],
   "source": [
    "# Initial processing of task conditions\n",
    "def conditions_processing(conditions, supported_operations):\n",
    "    return [replace_all(condition, supported_operations) for condition in conditions]"
   ]
  },
  {
   "cell_type": "code",
   "execution_count": 52,
   "metadata": {
    "collapsed": true
   },
   "outputs": [],
   "source": [
    "# Evaluate single condition\n",
    "def evaluate_condition(condition, point_position):\n",
    "    condition = replace_all(condition, point_position)\n",
    "    return eval(condition)"
   ]
  },
  {
   "cell_type": "code",
   "execution_count": 53,
   "metadata": {
    "collapsed": true
   },
   "outputs": [],
   "source": [
    "# Validate conditions for point\n",
    "def validate_single_point(conditions, point_position):\n",
    "    return all([evaluate_condition(condition, point_position) for condition in conditions])"
   ]
  },
  {
   "cell_type": "code",
   "execution_count": null,
   "metadata": {
    "collapsed": true
   },
   "outputs": [],
   "source": [
    "# Generate dictionary with random point position\n"
   ]
  },
  {
   "cell_type": "code",
   "execution_count": 57,
   "metadata": {},
   "outputs": [
    {
     "data": {
      "text/plain": [
       "True"
      ]
     },
     "execution_count": 57,
     "metadata": {},
     "output_type": "execute_result"
    }
   ],
   "source": [
    "# Test script\n",
    "processed_conditions = conditions_processing(conditions, supported_operations)\n",
    "validate_single_point(processed_conditions, random_point_position)"
   ]
  },
  {
   "cell_type": "code",
   "execution_count": null,
   "metadata": {
    "collapsed": true
   },
   "outputs": [],
   "source": []
  },
  {
   "cell_type": "code",
   "execution_count": null,
   "metadata": {
    "collapsed": true
   },
   "outputs": [],
   "source": [
    "# Generate dictionary "
   ]
  }
 ],
 "metadata": {
  "kernelspec": {
   "display_name": "Python 3",
   "language": "python",
   "name": "python3"
  },
  "language_info": {
   "codemirror_mode": {
    "name": "ipython",
    "version": 3
   },
   "file_extension": ".py",
   "mimetype": "text/x-python",
   "name": "python",
   "nbconvert_exporter": "python",
   "pygments_lexer": "ipython3",
   "version": "3.6.3"
  }
 },
 "nbformat": 4,
 "nbformat_minor": 2
}
