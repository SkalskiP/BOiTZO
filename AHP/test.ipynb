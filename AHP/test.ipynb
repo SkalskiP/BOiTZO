{
 "cells": [
  {
   "cell_type": "code",
   "execution_count": 1,
   "metadata": {
    "collapsed": true
   },
   "outputs": [],
   "source": [
    "import json"
   ]
  },
  {
   "cell_type": "code",
   "execution_count": 2,
   "metadata": {
    "collapsed": true
   },
   "outputs": [],
   "source": [
    "class Node(object):\n",
    "    def __init__(self):\n",
    "        self.name = None\n",
    "        self.preferences = []\n",
    "        self.children = []\n",
    "        self.parent = None\n",
    "        \n",
    "    def isLief(self):\n",
    "        return(type(self.children) is not list)\n",
    "        \n",
    "    def setAsLief(self, alternatives_size):\n",
    "        self.children = \"alternatives\"\n",
    "        self.buildBlankPreferences(alternatives_size)\n",
    "        \n",
    "    def setAsBrunch(self):\n",
    "        self.children = []\n",
    "        self.preferences = []\n",
    "        \n",
    "    def addChildWithName(self, name):\n",
    "        if not self.isLief():\n",
    "            child = Node()\n",
    "            child.name = name\n",
    "            child.parent = self\n",
    "            self.children.append(child)\n",
    "            self.buildBlankPreferences(len(self.children))\n",
    "        \n",
    "    def buildBlankPreferences(self, size):\n",
    "        self.preferences = []\n",
    "        for i in range(size):\n",
    "            self.preferences.append([0] * size)\n",
    "            \n",
    "    def preferencesToString(self):\n",
    "        return(json.dumps(self.preferences))\n",
    "        \n",
    "    def updatePreferences(self, preferences, alternatives_size = None):\n",
    "        try:\n",
    "            tmp_preferences = json.loads(preferences)\n",
    "        except:\n",
    "            return;\n",
    "        else:\n",
    "            if alternatives_size:\n",
    "                if (len(tmp_preferences) == alternatives_size and len(tmp_preferences[0]) == alternatives_size):\n",
    "                    self.preferences = tmp_preferences\n",
    "            else:\n",
    "                if (len(self.children) == len(tmp_preferences) and len(self.children) == len(tmp_preferences[0])):\n",
    "                    self.preferences = tmp_preferences"
   ]
  },
  {
   "cell_type": "code",
   "execution_count": 3,
   "metadata": {
    "collapsed": true
   },
   "outputs": [],
   "source": [
    "model_data = open(\"output/data1.json\").read()\n",
    "model_json = json.loads(model_data)"
   ]
  },
  {
   "cell_type": "code",
   "execution_count": 6,
   "metadata": {},
   "outputs": [
    {
     "data": {
      "text/plain": [
       "{'alternatives': ['Alternative 1', 'Alternative 2'],\n",
       " 'gole': {'children': [{'children': 'alternatives',\n",
       "    'name': 'Feature 1',\n",
       "    'preferences': [[1, 4], [0.25, 1]]},\n",
       "   {'children': 'alternatives',\n",
       "    'name': 'Feature 2',\n",
       "    'preferences': [[1, 1], [1, 1]]}],\n",
       "  'name': 'Root',\n",
       "  'preferences': [[1, 2], [0.5, 1]]}}"
      ]
     },
     "execution_count": 6,
     "metadata": {},
     "output_type": "execute_result"
    }
   ],
   "source": [
    "model_json"
   ]
  },
  {
   "cell_type": "code",
   "execution_count": 7,
   "metadata": {
    "scrolled": true
   },
   "outputs": [],
   "source": [
    "def getNode(dictionary, parent = None):\n",
    "    newNode = Node()\n",
    "    newNode.name = dictionary[\"name\"]\n",
    "    newNode.preferences = dictionary[\"preferences\"]\n",
    "    newNode.parent = parent\n",
    "    \n",
    "    if(dictionary[\"children\"] == \"alternatives\"):\n",
    "        newNode.children = dictionary[\"children\"]\n",
    "    else:\n",
    "        newNode.children = [getNode(child, newNode) for child in dictionary[\"children\"]]\n",
    "        \n",
    "    return newNode"
   ]
  },
  {
   "cell_type": "code",
   "execution_count": 8,
   "metadata": {
    "collapsed": true
   },
   "outputs": [],
   "source": [
    "test = getNode(model_json[\"gole\"])"
   ]
  },
  {
   "cell_type": "code",
   "execution_count": 16,
   "metadata": {},
   "outputs": [
    {
     "data": {
      "text/plain": [
       "[[1, 4], [0.25, 1]]"
      ]
     },
     "execution_count": 16,
     "metadata": {},
     "output_type": "execute_result"
    }
   ],
   "source": [
    "test.children[0].preferences"
   ]
  },
  {
   "cell_type": "code",
   "execution_count": null,
   "metadata": {
    "collapsed": true
   },
   "outputs": [],
   "source": []
  }
 ],
 "metadata": {
  "kernelspec": {
   "display_name": "Python 3",
   "language": "python",
   "name": "python3"
  },
  "language_info": {
   "codemirror_mode": {
    "name": "ipython",
    "version": 3
   },
   "file_extension": ".py",
   "mimetype": "text/x-python",
   "name": "python",
   "nbconvert_exporter": "python",
   "pygments_lexer": "ipython3",
   "version": "3.6.3"
  }
 },
 "nbformat": 4,
 "nbformat_minor": 2
}
