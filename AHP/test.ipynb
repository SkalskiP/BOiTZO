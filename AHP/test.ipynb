{
 "cells": [
  {
   "cell_type": "markdown",
   "metadata": {},
   "source": [
    "## 1. Key imports"
   ]
  },
  {
   "cell_type": "markdown",
   "metadata": {},
   "source": [
    "### 1.1. Importing essential libraries"
   ]
  },
  {
   "cell_type": "code",
   "execution_count": 6,
   "metadata": {
    "collapsed": true
   },
   "outputs": [],
   "source": [
    "# JSON encoder and decoder\n",
    "import json\n",
    "# \"Pretty-print\" of dict structures\n",
    "import pprint\n",
    "# Linear algebra\n",
    "import numpy as np\n",
    "from scipy import linalg as la\n",
    "# Proprietary class and methods allowing to build AHP tree structure\n",
    "from src.node import Node\n",
    "from src.utils.file_utils import FileUtils as fu"
   ]
  },
  {
   "cell_type": "markdown",
   "metadata": {},
   "source": [
    "### 1.2. Importing dataset"
   ]
  },
  {
   "cell_type": "code",
   "execution_count": 4,
   "metadata": {},
   "outputs": [],
   "source": [
    "# Load model from json file\n",
    "model_string = open(\"output/MostSuitableLeader.json\").read()\n",
    "model_dict = json.loads(model_string)"
   ]
  },
  {
   "cell_type": "code",
   "execution_count": 13,
   "metadata": {},
   "outputs": [
    {
     "name": "stdout",
     "output_type": "stream",
     "text": [
      "{'alternatives': ['Tom', 'Dick', 'Harry'],\n",
      " 'goal': {'children': [{'children': 'alternatives',\n",
      "                        'name': 'Experience',\n",
      "                        'preferences': [[1, 0.25, 4],\n",
      "                                        [4, 1, 9],\n",
      "                                        [0.25, 0.111111, 1]]},\n",
      "                       {'children': 'alternatives',\n",
      "                        'name': 'Education',\n",
      "                        'preferences': [[1, 3, 0.2],\n",
      "                                        [0.333333, 1, 0.142857],\n",
      "                                        [5, 7, 1]]},\n",
      "                       {'children': 'alternatives',\n",
      "                        'name': 'Charisma',\n",
      "                        'preferences': [[1, 5, 9],\n",
      "                                        [0.2, 1, 4],\n",
      "                                        [0.111111, 0.25, 1]]},\n",
      "                       {'children': 'alternatives',\n",
      "                        'name': 'Age',\n",
      "                        'preferences': [[1, 0.333333, 5],\n",
      "                                        [3, 1, 9],\n",
      "                                        [0.2, 0.111111, 1]]}],\n",
      "          'name': 'Most Suitable Leader',\n",
      "          'preferences': [[1, 4, 3, 7],\n",
      "                          [0.25, 1, 0.333333, 3],\n",
      "                          [0.333333, 3, 1, 5],\n",
      "                          [0.142857, 0.333333, 0.2, 1]]}}\n"
     ]
    }
   ],
   "source": [
    "# \"Pretty-print\" of AHP dict structure\n",
    "pp = pprint.PrettyPrinter(indent=1)\n",
    "pp.pprint(model_dict)"
   ]
  },
  {
   "cell_type": "code",
   "execution_count": 15,
   "metadata": {},
   "outputs": [],
   "source": [
    "# Transformation of dict into tree structure\n",
    "model = fu.get_node(model_dict[\"goal\"])"
   ]
  },
  {
   "cell_type": "markdown",
   "metadata": {},
   "source": [
    "## 2. Custom functions for ahp ranking calculation"
   ]
  },
  {
   "cell_type": "markdown",
   "metadata": {},
   "source": [
    "### 2.1. Eigenvector method"
   ]
  },
  {
   "cell_type": "markdown",
   "metadata": {},
   "source": [
    "\\begin{align}\n",
    "\\mathbf{Aw} & = \\begin{pmatrix}\n",
    "w_{1}/w_{1} & w_{1}/w_{2} & \\cdots  & w_{1}/w_{n} \\\\ \n",
    "w_{2}/w_{1} & w_{2}/w_{2} & \\cdots  & w_{2}/w_{n} \\\\ \n",
    "\\vdots      & \\vdots      & \\ddots  & \\vdots      \\\\ \n",
    "w_{n}/w_{1} & w_{n}/w_{2} & \\cdots  & w_{n}/w_{n}\n",
    "\\end{pmatrix} \\begin{pmatrix}\n",
    "w_{1} \\\\ \n",
    "w_{2} \\\\ \n",
    "\\vdots \\\\ \n",
    "w_{n}\n",
    "\\end{pmatrix} = \\begin{pmatrix}\n",
    "nw_{1} \\\\ \n",
    "nw_{2} \\\\ \n",
    "\\vdots \\\\ \n",
    "nw_{n}\n",
    "\\end{pmatrix} = n\\mathbf{w}\n",
    "\\end{align}"
   ]
  },
  {
   "cell_type": "markdown",
   "metadata": {},
   "source": [
    "\\begin{align}\n",
    "\\left\\{\\begin{matrix}\n",
    "\\mathbf{Aw}=\\lambda _{max}\\mathbf{w}\\\\ \n",
    "\\mathbf{w}^{T}\\mathbf{1}=1\n",
    "\\end{matrix}\\right.\n",
    "\\end{align}"
   ]
  },
  {
   "cell_type": "code",
   "execution_count": 38,
   "metadata": {
    "collapsed": true
   },
   "outputs": [],
   "source": [
    "def getEigRanking(dictionary, verbose = False):\n",
    "    preferences_array = np.array(dictionary.preferences)\n",
    "    e_vals, e_vecs = la.eig(preferences_array)\n",
    "    max_eigv_index = np.argmax(e_vals, axis=0)\n",
    "    ranking = e_vecs[:,max_eigv_index].real\n",
    "    ranking = ranking/ranking.sum()\n",
    "    \n",
    "    if verbose:\n",
    "        print(dictionary.name)\n",
    "        print(\"Ranking:\")\n",
    "        print(ranking)\n",
    "    \n",
    "    if(dictionary.children == \"alternatives\"):\n",
    "        return ranking\n",
    "    else:\n",
    "        children_ranking = np.array([getEigRanking(child, verbose) for child in dictionary.children])\n",
    "        return ranking @ children_ranking"
   ]
  },
  {
   "cell_type": "markdown",
   "metadata": {},
   "source": [
    "### 2.2. Geometric mean method"
   ]
  },
  {
   "cell_type": "markdown",
   "metadata": {},
   "source": [
    "\\begin{align}\n",
    "w_{i}=(\\prod_{j=1}^{n}a_{ij})^{\\frac{1}{n}} / \\sum_{i=1}^{n}(\\prod_{j=1}^{n}a_{ij})^{\\frac{1}{n}}\n",
    "\\end{align}"
   ]
  },
  {
   "cell_type": "code",
   "execution_count": 44,
   "metadata": {
    "collapsed": true
   },
   "outputs": [],
   "source": [
    "def getGeomRanking(dictionary, verbose = False):\n",
    "    preferences_array = np.array(dictionary.preferences)\n",
    "    ranking = np.power(np.prod(preferences_array, axis=1), 1/preferences_array.shape[1])\n",
    "    ranking = ranking/ranking.sum()\n",
    "    \n",
    "    if verbose:\n",
    "        print(dictionary.name)\n",
    "        print(\"Ranking:\")\n",
    "        print(ranking)\n",
    "    \n",
    "    if(dictionary.children == \"alternatives\"):\n",
    "        return ranking\n",
    "    else:\n",
    "        children_ranking = np.array([getGeomRanking(child, verbose) for child in dictionary.children])\n",
    "        return ranking @ children_ranking"
   ]
  },
  {
   "cell_type": "markdown",
   "metadata": {},
   "source": [
    "### 2.3. Normalized columns method"
   ]
  },
  {
   "cell_type": "code",
   "execution_count": 52,
   "metadata": {
    "collapsed": true
   },
   "outputs": [],
   "source": [
    "def getNormColsRanking(dictionary, verbose = False):\n",
    "    preferences_array = np.array(dictionary.preferences)\n",
    "    ranking = np.mean(preferences_array/preferences_array.sum(axis=0)[None,:], axis=1)\n",
    "    \n",
    "    if verbose:\n",
    "        print(dictionary.name)\n",
    "        print(\"Ranking:\")\n",
    "        print(ranking)\n",
    "    \n",
    "    if(dictionary.children == \"alternatives\"):\n",
    "        return ranking\n",
    "    else:\n",
    "        children_ranking = np.array([getNormColsRanking(child, verbose) for child in dictionary.children])\n",
    "        return ranking @ children_ranking"
   ]
  },
  {
   "cell_type": "code",
   "execution_count": 39,
   "metadata": {},
   "outputs": [
    {
     "name": "stdout",
     "output_type": "stream",
     "text": [
      "Most Suitable Leader\n",
      "Ranking:\n",
      "[ 0.5475693   0.12655527  0.2699499   0.05592553]\n",
      "Experience\n",
      "Ranking:\n",
      "[ 0.21716561  0.71706507  0.06576933]\n",
      "Education\n",
      "Ranking:\n",
      "[ 0.18839409  0.08096118  0.73064473]\n",
      "Charisma\n",
      "Ranking:\n",
      "[ 0.74286665  0.19388163  0.06325172]\n",
      "Age\n",
      "Ranking:\n",
      "[ 0.26543329  0.67162552  0.06294119]\n"
     ]
    },
    {
     "data": {
      "text/plain": [
       "array([ 0.35813676,  0.49278822,  0.14907502])"
      ]
     },
     "execution_count": 39,
     "metadata": {},
     "output_type": "execute_result"
    }
   ],
   "source": [
    "getEigRanking(model, True)"
   ]
  },
  {
   "cell_type": "code",
   "execution_count": 45,
   "metadata": {
    "scrolled": true
   },
   "outputs": [
    {
     "name": "stdout",
     "output_type": "stream",
     "text": [
      "Most Suitable Leader\n",
      "Ranking:\n",
      "[ 0.54624037  0.12758478  0.26980896  0.0563659 ]\n",
      "Experience\n",
      "Ranking:\n",
      "[ 0.21716561  0.71706506  0.06576933]\n",
      "Education\n",
      "Ranking:\n",
      "[ 0.18839411  0.08096118  0.73064471]\n",
      "Charisma\n",
      "Ranking:\n",
      "[ 0.74286664  0.19388164  0.06325172]\n",
      "Age\n",
      "Ranking:\n",
      "[ 0.26543328  0.67162553  0.06294119]\n"
     ]
    },
    {
     "data": {
      "text/plain": [
       "array([ 0.3580543 ,  0.49218707,  0.14975862])"
      ]
     },
     "execution_count": 45,
     "metadata": {},
     "output_type": "execute_result"
    }
   ],
   "source": [
    "getGeomRanking(model, True)"
   ]
  },
  {
   "cell_type": "code",
   "execution_count": 53,
   "metadata": {},
   "outputs": [
    {
     "name": "stdout",
     "output_type": "stream",
     "text": [
      "Most Suitable Leader\n",
      "Ranking:\n",
      "[ 0.53964382  0.13146424  0.27154789  0.05734404]\n",
      "Experience\n",
      "Ranking:\n",
      "[ 0.21995465  0.71315195  0.0668934 ]\n",
      "Education\n",
      "Ranking:\n",
      "[ 0.19318607  0.08330783  0.7235061 ]\n",
      "Charisma\n",
      "Ranking:\n",
      "[ 0.73518969  0.19941889  0.06539142]\n",
      "Age\n",
      "Ranking:\n",
      "[ 0.26739921  0.66886454  0.06373625]\n"
     ]
    },
    {
     "data": {
      "text/plain": [
       "array([ 0.35906719,  0.48830722,  0.15262559])"
      ]
     },
     "execution_count": 53,
     "metadata": {},
     "output_type": "execute_result"
    }
   ],
   "source": [
    "getNormColsRanking(model, True)"
   ]
  },
  {
   "cell_type": "code",
   "execution_count": null,
   "metadata": {
    "collapsed": true
   },
   "outputs": [],
   "source": []
  }
 ],
 "metadata": {
  "kernelspec": {
   "display_name": "Python 3",
   "language": "python",
   "name": "python3"
  },
  "language_info": {
   "codemirror_mode": {
    "name": "ipython",
    "version": 3
   },
   "file_extension": ".py",
   "mimetype": "text/x-python",
   "name": "python",
   "nbconvert_exporter": "python",
   "pygments_lexer": "ipython3",
   "version": "3.6.3"
  }
 },
 "nbformat": 4,
 "nbformat_minor": 2
}
